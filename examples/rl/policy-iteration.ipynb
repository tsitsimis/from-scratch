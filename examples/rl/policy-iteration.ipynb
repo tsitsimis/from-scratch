{
 "cells": [
  {
   "cell_type": "markdown",
   "metadata": {},
   "source": [
    "# Dynamic Programming\n",
    "### Policy Iteration\n",
    "Policy Iteration is a Dynamic Programming method to estimate the value function $V_\\pi(s)$ of a policy $\\pi(a|s)$ and improve the policy so that the actions selected lead to better return.\n",
    "\n",
    "Here, the Markov Decision Process (MDP) is a simple grid environment where the goal state is 2 rectangles. The states are the x,y positions in the grid and the possible actions are going north, south, west or east.  \n",
    "\n",
    "The goal is to find the optimal policy so that when placed in a location, an agent can select the best action to find itself in one of the goal states. The policy is initially random (actions are selected with equal probability) and its value function is estimated. For value estimation, the Policy Evaluation algorithm is used. To improve the policy, the Policy Improvement algorithm is used. By itarating Policy Evaluation and Policy Improvement, the policy converges to the optimal one."
   ]
  },
  {
   "cell_type": "code",
   "execution_count": 1,
   "metadata": {
    "ExecuteTime": {
     "end_time": "2020-04-20T11:55:29.529577Z",
     "start_time": "2020-04-20T11:55:29.508579Z"
    }
   },
   "outputs": [
    {
     "data": {
      "text/html": [
       "<style>.container {width: 98%}</style>\n"
      ],
      "text/plain": [
       "<IPython.core.display.HTML object>"
      ]
     },
     "metadata": {},
     "output_type": "display_data"
    }
   ],
   "source": [
    "%%html\n",
    "<style>.container {width: 98%}</style>"
   ]
  },
  {
   "cell_type": "code",
   "execution_count": 2,
   "metadata": {
    "ExecuteTime": {
     "end_time": "2020-04-20T11:55:30.432586Z",
     "start_time": "2020-04-20T11:55:29.534579Z"
    }
   },
   "outputs": [],
   "source": [
    "%load_ext autoreload\n",
    "%autoreload 2"
   ]
  },
  {
   "cell_type": "code",
   "execution_count": 3,
   "metadata": {
    "ExecuteTime": {
     "end_time": "2020-04-20T11:55:32.091643Z",
     "start_time": "2020-04-20T11:55:30.436575Z"
    }
   },
   "outputs": [],
   "source": [
    "import numpy as np\n",
    "\n",
    "import sys\n",
    "sys.path.insert(0, \"../../\")\n",
    "from fromscratch.rl.mdp import GridWorld, State\n",
    "from fromscratch.rl.dp import PolicyEvaluation, PolicyImprovement\n",
    "from fromscratch.rl.policy import GenericPolicy"
   ]
  },
  {
   "cell_type": "markdown",
   "metadata": {},
   "source": [
    "### Grid World\n",
    "Grid environment of n rows and m columns and 2 goal states  \n",
    "Allowed actions are going north, south, west or east, one step at a time"
   ]
  },
  {
   "cell_type": "code",
   "execution_count": 4,
   "metadata": {
    "ExecuteTime": {
     "end_time": "2020-04-20T11:55:32.635622Z",
     "start_time": "2020-04-20T11:55:32.094620Z"
    }
   },
   "outputs": [],
   "source": [
    "grid = GridWorld(6, 9, [State([0, 0]), State([4, 6])])"
   ]
  },
  {
   "cell_type": "code",
   "execution_count": 5,
   "metadata": {
    "ExecuteTime": {
     "end_time": "2020-04-20T11:55:33.514616Z",
     "start_time": "2020-04-20T11:55:32.641619Z"
    }
   },
   "outputs": [],
   "source": [
    "policy = GenericPolicy(grid, gamma=0.9)"
   ]
  },
  {
   "cell_type": "code",
   "execution_count": 6,
   "metadata": {
    "ExecuteTime": {
     "end_time": "2020-04-20T11:55:34.235630Z",
     "start_time": "2020-04-20T11:55:33.517622Z"
    }
   },
   "outputs": [
    {
     "data": {
      "image/png": "[encoded data removed]",
      "text/plain": [
       "<Figure size 432x288 with 1 Axes>"
      ]
     },
     "metadata": {
      "needs_background": "light"
     },
     "output_type": "display_data"
    }
   ],
   "source": [
    "grid.plot(policy)"
   ]
  },
  {
   "cell_type": "markdown",
   "metadata": {},
   "source": [
    "Initially, the policy chooses actions randomly. The value function of this policy shows which states are better for an agent to be when selecting actions randomly"
   ]
  },
  {
   "cell_type": "markdown",
   "metadata": {},
   "source": [
    "### Policy Evaluation"
   ]
  },
  {
   "cell_type": "code",
   "execution_count": 7,
   "metadata": {
    "ExecuteTime": {
     "end_time": "2020-04-20T11:55:34.626615Z",
     "start_time": "2020-04-20T11:55:34.239615Z"
    }
   },
   "outputs": [],
   "source": [
    "evaluator = PolicyEvaluation(grid, policy)"
   ]
  },
  {
   "cell_type": "markdown",
   "metadata": {},
   "source": [
    "Policy Evaluation iteratively uses the Bellman equation as an update rule to obtain better estimations of the true value function of the policy\n",
    "\n",
    "$\n",
    "u_{k+1}(s) = \\sum\\limits_{a}\\pi(a|s) \\sum\\limits_{s^\\prime, r} p(s^\\prime, r|s, a)\\left[r + \\gamma u_{k}(s) \\right]\n",
    "$\n"
   ]
  },
  {
   "cell_type": "code",
   "execution_count": 8,
   "metadata": {
    "ExecuteTime": {
     "end_time": "2020-04-20T11:55:37.951614Z",
     "start_time": "2020-04-20T11:55:34.632625Z"
    }
   },
   "outputs": [],
   "source": [
    "for _ in range(20):\n",
    "    evaluator.evaluate_once()"
   ]
  },
  {
   "cell_type": "code",
   "execution_count": 9,
   "metadata": {
    "ExecuteTime": {
     "end_time": "2020-04-20T11:55:38.664601Z",
     "start_time": "2020-04-20T11:55:37.954616Z"
    }
   },
   "outputs": [
    {
     "data": {
      "image/png": "[encoded data removed]",
      "text/plain": [
       "<Figure size 432x288 with 1 Axes>"
      ]
     },
     "metadata": {
      "needs_background": "light"
     },
     "output_type": "display_data"
    }
   ],
   "source": [
    "grid.plot(policy)"
   ]
  },
  {
   "cell_type": "markdown",
   "metadata": {},
   "source": [
    "As expected, the states that are close to the goal have high value and the states far from the goal have all 0 value.  \n",
    "This basically tells us that when we make random moves, if we are close to the goal we are likely to reach it. But if we are a little farther away, chances are that we will not get to the goal.  \n",
    "\n",
    "This intuitive result shows that the value function exponentially decreases as we get far away from the goal since there is about $(\\frac{1}{4})^n$ probability to reach the goal when we are $n$ steps away from it."
   ]
  },
  {
   "cell_type": "markdown",
   "metadata": {},
   "source": [
    "### Policy Iteration\n",
    "Policy Evaluation and Policy Improvement are executed sequentially to find the optimal policy.  \n",
    "At every step, the value function estimation is updated and based on it the best action at every state is calculated."
   ]
  },
  {
   "cell_type": "code",
   "execution_count": 10,
   "metadata": {
    "ExecuteTime": {
     "end_time": "2020-04-20T11:55:39.228187Z",
     "start_time": "2020-04-20T11:55:38.668601Z"
    }
   },
   "outputs": [],
   "source": [
    "policy.reset()\n",
    "improver = PolicyImprovement(grid, policy)"
   ]
  },
  {
   "cell_type": "code",
   "execution_count": 11,
   "metadata": {
    "ExecuteTime": {
     "end_time": "2020-04-20T11:55:43.459279Z",
     "start_time": "2020-04-20T11:55:39.232168Z"
    }
   },
   "outputs": [],
   "source": [
    "for _ in range(10):\n",
    "    evaluator.evaluate_once()\n",
    "    improver.improve_once()"
   ]
  },
  {
   "cell_type": "code",
   "execution_count": 12,
   "metadata": {
    "ExecuteTime": {
     "end_time": "2020-04-20T11:55:44.286165Z",
     "start_time": "2020-04-20T11:55:43.462167Z"
    }
   },
   "outputs": [
    {
     "data": {
      "image/png": "[encoded data removed]",
      "text/plain": [
       "<Figure size 432x288 with 1 Axes>"
      ]
     },
     "metadata": {
      "needs_background": "light"
     },
     "output_type": "display_data"
    }
   ],
   "source": [
    "grid.plot(policy)"
   ]
  },
  {
   "cell_type": "markdown",
   "metadata": {
    "ExecuteTime": {
     "end_time": "2020-04-18T09:05:00.612483Z",
     "start_time": "2020-04-18T09:05:00.027478Z"
    }
   },
   "source": [
    "We see that the value function of the new policy is much more informative than the one of the random policy. Even for states far from the goal there it is a clear which direction to follow (basically doing gradient descent on the value function). Also, the policy has been optimized to point to states with higher value function."
   ]
  },
  {
   "cell_type": "markdown",
   "metadata": {},
   "source": [
    "### Windy Grid World\n",
    "A variation of the Grid World environment adds a \"wind\" in the state space such that every action is affected by an additional vertical move"
   ]
  },
  {
   "cell_type": "code",
   "execution_count": 13,
   "metadata": {
    "ExecuteTime": {
     "end_time": "2020-04-20T11:55:44.789167Z",
     "start_time": "2020-04-20T11:55:44.292170Z"
    }
   },
   "outputs": [],
   "source": [
    "windy_grid = GridWorld(7, 10, goal=[State([3, 7])], wind=np.array([0, 0, 0, -1, -1, -1, -2, -2, -1, 0]))"
   ]
  },
  {
   "cell_type": "code",
   "execution_count": 14,
   "metadata": {
    "ExecuteTime": {
     "end_time": "2020-04-20T11:55:45.197166Z",
     "start_time": "2020-04-20T11:55:44.793182Z"
    }
   },
   "outputs": [],
   "source": [
    "policy = GenericPolicy(windy_grid, gamma=0.9)\n",
    "\n",
    "evaluator = PolicyEvaluation(windy_grid, policy)\n",
    "improver = PolicyImprovement(windy_grid, policy)"
   ]
  },
  {
   "cell_type": "code",
   "execution_count": 15,
   "metadata": {
    "ExecuteTime": {
     "end_time": "2020-04-20T11:56:04.090169Z",
     "start_time": "2020-04-20T11:55:45.203164Z"
    }
   },
   "outputs": [],
   "source": [
    "for _ in range(30):\n",
    "    evaluator.evaluate_once()\n",
    "    improver.improve_once()"
   ]
  },
  {
   "cell_type": "code",
   "execution_count": 16,
   "metadata": {
    "ExecuteTime": {
     "end_time": "2020-04-20T11:56:06.179166Z",
     "start_time": "2020-04-20T11:56:04.095171Z"
    }
   },
   "outputs": [
    {
     "data": {
      "image/png": "[encoded data removed]",
      "text/plain": [
       "<Figure size 432x288 with 1 Axes>"
      ]
     },
     "metadata": {
      "needs_background": "light"
     },
     "output_type": "display_data"
    }
   ],
   "source": [
    "windy_grid.plot(policy)"
   ]
  },
  {
   "cell_type": "markdown",
   "metadata": {},
   "source": [
    "The most interesting observation is that the improved policy learned that in order to get to the goal, it shouldn't follow the most direct path to it. But instead \"follow the wind\" and transition to states that while are farer from the goal, the influence of the wind will take the agent to the it.   \n",
    "\n",
    "An example is the state just to the right of the goal. The optimal action is going to the opposite direction and sort of circle around the goal and go to the state under it. In this state the optimal action is again going opposite (downwards). But due to the wind the agent will then be placed directly on the goal state."
   ]
  }
 ],
 "metadata": {
  "kernelspec": {
   "display_name": "Python 3",
   "language": "python",
   "name": "python3"
  },
  "language_info": {
   "codemirror_mode": {
    "name": "ipython",
    "version": 3
   },
   "file_extension": ".py",
   "mimetype": "text/x-python",
   "name": "python",
   "nbconvert_exporter": "python",
   "pygments_lexer": "ipython3",
   "version": "3.7.2"
  }
 },
 "nbformat": 4,
 "nbformat_minor": 4
}
