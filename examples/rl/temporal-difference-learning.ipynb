{
 "cells": [
  {
   "cell_type": "markdown",
   "metadata": {},
   "source": [
    "# Temporal Difference Methods\n",
    "Temporal Difference (TD) learning is a combination of Dynamic Programming and Monte Carlo methods:\n",
    "- Learning can be achieved from raw experience without knowing model dynamics\n",
    "- Updates are made immediately when new observations (state an reward) arrive\n",
    "\n",
    "TD learns the state-action value function $Q(s, a)$ while the policy can be as simple as ε-greedy. Two populat methods are SARSA and Q-Learning\n",
    "\n",
    "### SARSA\n",
    "Stands for $(S_{t}, A_{t}, R_{t+1}, S_{t+1}, A_{t+1})$ and in every move, it observes the action taken and next state and uses them to update the value function:  \n",
    "\n",
    "$\n",
    "Q(S_{t}, A_{t}) \\leftarrow Q(S_{t}, A_{t}) + \\alpha\\left[R_{t+1} + \\gamma Q(S_{t+1}, A_{t+1}) - Q(S_{t}, A_{t})\\right]\n",
    "$\n",
    "\n",
    "This very simple update rule pushes $Q(S_{t}, A_{t})$ function a little closer to $R_{t+1} + \\gamma Q(S_{t+1}, A_{t+1})$ since according to the immediately observed reward this is a more accurate value for $Q(S, A)$\n",
    "\n",
    "### Q-Learning\n",
    "Q-Learning follows a very similar rule but instead of relying to the current policy to observe the Q function of the next state and next action, it simply maximizes over the next action $A_{t+1}$:  \n",
    "\n",
    "$\n",
    "Q(S_{t}, A_{t}) \\leftarrow Q(S_{t}, A_{t}) + \\alpha\\left[R_{t+1} + \\gamma \\max\\limits_{a}Q(S_{t+1}, a) - Q(S_{t}, A_{t})\\right]\n",
    "$\n"
   ]
  },
  {
   "cell_type": "code",
   "execution_count": 1,
   "metadata": {
    "ExecuteTime": {
     "end_time": "2020-04-20T12:29:29.090347Z",
     "start_time": "2020-04-20T12:29:29.066345Z"
    }
   },
   "outputs": [
    {
     "data": {
      "text/html": [
       "<style>.container {width: 98%}</style>\n"
      ],
      "text/plain": [
       "<IPython.core.display.HTML object>"
      ]
     },
     "metadata": {},
     "output_type": "display_data"
    }
   ],
   "source": [
    "%%html\n",
    "<style>.container {width: 98%}</style>"
   ]
  },
  {
   "cell_type": "code",
   "execution_count": 2,
   "metadata": {
    "ExecuteTime": {
     "end_time": "2020-04-20T12:29:29.723454Z",
     "start_time": "2020-04-20T12:29:29.095341Z"
    }
   },
   "outputs": [],
   "source": [
    "%load_ext autoreload\n",
    "%autoreload 2"
   ]
  },
  {
   "cell_type": "code",
   "execution_count": 3,
   "metadata": {
    "ExecuteTime": {
     "end_time": "2020-04-20T12:29:31.520944Z",
     "start_time": "2020-04-20T12:29:29.727344Z"
    }
   },
   "outputs": [],
   "source": [
    "import itertools\n",
    "import numpy as np\n",
    "import matplotlib.pyplot as plt\n",
    "\n",
    "import sys\n",
    "sys.path.insert(0, \"../../\")\n",
    "from fromscratch.rl.mdp import GridWorld, State, ActionSpace\n",
    "from fromscratch.rl.policy import EpsilonGreedy\n",
    "from fromscratch.rl.td_learning import SARSA, QLearning"
   ]
  },
  {
   "cell_type": "markdown",
   "metadata": {},
   "source": [
    "### Grid World Environment"
   ]
  },
  {
   "cell_type": "code",
   "execution_count": 4,
   "metadata": {
    "ExecuteTime": {
     "end_time": "2020-04-20T12:29:32.027946Z",
     "start_time": "2020-04-20T12:29:31.525943Z"
    }
   },
   "outputs": [],
   "source": [
    "grid = GridWorld(7, 10, goal=[State([3, 7])])"
   ]
  },
  {
   "cell_type": "markdown",
   "metadata": {},
   "source": [
    "### ε-greedy policy"
   ]
  },
  {
   "cell_type": "code",
   "execution_count": 5,
   "metadata": {
    "ExecuteTime": {
     "end_time": "2020-04-20T12:29:32.821949Z",
     "start_time": "2020-04-20T12:29:32.032942Z"
    }
   },
   "outputs": [],
   "source": [
    "policy = EpsilonGreedy(grid, epsilon=0.1, gamma=0.9, value_function=\"Q\")"
   ]
  },
  {
   "cell_type": "code",
   "execution_count": 6,
   "metadata": {
    "ExecuteTime": {
     "end_time": "2020-04-20T12:29:33.521953Z",
     "start_time": "2020-04-20T12:29:32.825946Z"
    }
   },
   "outputs": [
    {
     "data": {
      "image/png": "[encoded data removed]",
      "text/plain": [
       "<Figure size 432x288 with 1 Axes>"
      ]
     },
     "metadata": {
      "needs_background": "light"
     },
     "output_type": "display_data"
    }
   ],
   "source": [
    "grid.plot(policy)"
   ]
  },
  {
   "cell_type": "markdown",
   "metadata": {},
   "source": [
    "Initially the policy selects the first availabl action (north) since all actions have the same selection probability"
   ]
  },
  {
   "cell_type": "markdown",
   "metadata": {},
   "source": [
    "### SARSA"
   ]
  },
  {
   "cell_type": "code",
   "execution_count": 7,
   "metadata": {
    "ExecuteTime": {
     "end_time": "2020-04-20T12:29:33.908957Z",
     "start_time": "2020-04-20T12:29:33.525959Z"
    }
   },
   "outputs": [],
   "source": [
    "sarsa = SARSA(grid, policy, lr=1)"
   ]
  },
  {
   "cell_type": "code",
   "execution_count": 8,
   "metadata": {
    "ExecuteTime": {
     "end_time": "2020-04-20T12:29:46.061031Z",
     "start_time": "2020-04-20T12:29:33.915957Z"
    }
   },
   "outputs": [],
   "source": [
    "sarsa.play_episodes(n=800)"
   ]
  },
  {
   "cell_type": "code",
   "execution_count": 9,
   "metadata": {
    "ExecuteTime": {
     "end_time": "2020-04-20T12:29:46.795037Z",
     "start_time": "2020-04-20T12:29:46.065035Z"
    }
   },
   "outputs": [
    {
     "data": {
      "image/png": "[encoded data removed]",
      "text/plain": [
       "<Figure size 432x288 with 1 Axes>"
      ]
     },
     "metadata": {
      "needs_background": "light"
     },
     "output_type": "display_data"
    }
   ],
   "source": [
    "grid.plot(policy)"
   ]
  },
  {
   "cell_type": "markdown",
   "metadata": {},
   "source": [
    "After 800 episodes the policy has learned a tendency to go towards the goal state. However in some states, the selected action is not optimal."
   ]
  },
  {
   "cell_type": "markdown",
   "metadata": {},
   "source": [
    "### Q-Learning"
   ]
  },
  {
   "cell_type": "code",
   "execution_count": 10,
   "metadata": {
    "ExecuteTime": {
     "end_time": "2020-04-20T12:29:47.182035Z",
     "start_time": "2020-04-20T12:29:46.799033Z"
    }
   },
   "outputs": [],
   "source": [
    "policy.reset()\n",
    "qlearning = QLearning(grid, policy, lr=1)"
   ]
  },
  {
   "cell_type": "code",
   "execution_count": 11,
   "metadata": {
    "ExecuteTime": {
     "end_time": "2020-04-20T12:29:56.773109Z",
     "start_time": "2020-04-20T12:29:47.186043Z"
    }
   },
   "outputs": [],
   "source": [
    "qlearning.play_episodes(n=800)"
   ]
  },
  {
   "cell_type": "code",
   "execution_count": 12,
   "metadata": {
    "ExecuteTime": {
     "end_time": "2020-04-20T12:29:57.538102Z",
     "start_time": "2020-04-20T12:29:56.777098Z"
    }
   },
   "outputs": [
    {
     "data": {
      "image/png": "[encoded data removed]",
      "text/plain": [
       "<Figure size 432x288 with 1 Axes>"
      ]
     },
     "metadata": {
      "needs_background": "light"
     },
     "output_type": "display_data"
    }
   ],
   "source": [
    "grid.plot(policy)"
   ]
  },
  {
   "cell_type": "markdown",
   "metadata": {},
   "source": [
    "We see that Q-Learning converged better to the optimal Q function resulting in a much more consistent policy"
   ]
  },
  {
   "cell_type": "markdown",
   "metadata": {},
   "source": [
    "### Windy Grid World\n",
    "Let's test Q-Learning in a slightly different task. We also tune epsilon during training in order to favor exploitation"
   ]
  },
  {
   "cell_type": "code",
   "execution_count": 13,
   "metadata": {
    "ExecuteTime": {
     "end_time": "2020-04-20T12:29:57.879103Z",
     "start_time": "2020-04-20T12:29:57.544100Z"
    }
   },
   "outputs": [],
   "source": [
    "windy_grid = GridWorld(7, 10, goal=[State([3, 7])], wind=np.array([0, 0, 0, -1, -1, -1, -2, -2, -1, 0]))"
   ]
  },
  {
   "cell_type": "code",
   "execution_count": 19,
   "metadata": {
    "ExecuteTime": {
     "end_time": "2020-04-20T12:43:29.310582Z",
     "start_time": "2020-04-20T12:43:27.939579Z"
    }
   },
   "outputs": [],
   "source": [
    "policy = EpsilonGreedy(windy_grid, epsilon=0.1, gamma=0.9, value_function=\"Q\")\n",
    "qlearning = QLearning(windy_grid, policy, lr=1)"
   ]
  },
  {
   "cell_type": "code",
   "execution_count": 22,
   "metadata": {
    "ExecuteTime": {
     "end_time": "2020-04-20T12:44:09.853144Z",
     "start_time": "2020-04-20T12:44:03.574135Z"
    }
   },
   "outputs": [],
   "source": [
    "qlearning.play_episodes(n=800)\n",
    "policy.epsilon = 0.01\n",
    "qlearning.play_episodes(n=400)"
   ]
  },
  {
   "cell_type": "code",
   "execution_count": null,
   "metadata": {
    "ExecuteTime": {
     "start_time": "2020-04-20T12:44:10.313Z"
    }
   },
   "outputs": [],
   "source": [
    "windy_grid.plot(policy)"
   ]
  },
  {
   "cell_type": "markdown",
   "metadata": {},
   "source": [
    "The policy again converged almost optimally"
   ]
  },
  {
   "cell_type": "code",
   "execution_count": null,
   "metadata": {},
   "outputs": [],
   "source": []
  }
 ],
 "metadata": {
  "kernelspec": {
   "display_name": "Python 3",
   "language": "python",
   "name": "python3"
  },
  "language_info": {
   "codemirror_mode": {
    "name": "ipython",
    "version": 3
   },
   "file_extension": ".py",
   "mimetype": "text/x-python",
   "name": "python",
   "nbconvert_exporter": "python",
   "pygments_lexer": "ipython3",
   "version": "3.7.2"
  }
 },
 "nbformat": 4,
 "nbformat_minor": 4
}
