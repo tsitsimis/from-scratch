{
 "cells": [
  {
   "cell_type": "markdown",
   "metadata": {},
   "source": [
    "# Classification Tree\n",
    "Implementation (numba-optimized for some parts) of Ordinary Binary Classification Trees (OBCTs)"
   ]
  },
  {
   "cell_type": "code",
   "execution_count": 1,
   "metadata": {
    "ExecuteTime": {
     "end_time": "2020-03-27T22:56:44.217227Z",
     "start_time": "2020-03-27T22:56:44.201160Z"
    }
   },
   "outputs": [
    {
     "data": {
      "text/html": [
       "<style>.container {width: 98%}</style>\n"
      ],
      "text/plain": [
       "<IPython.core.display.HTML object>"
      ]
     },
     "metadata": {},
     "output_type": "display_data"
    }
   ],
   "source": [
    "%%html\n",
    "<style>.container {width: 98%}</style>"
   ]
  },
  {
   "cell_type": "code",
   "execution_count": 2,
   "metadata": {
    "ExecuteTime": {
     "end_time": "2020-03-27T22:56:51.523860Z",
     "start_time": "2020-03-27T22:56:45.165963Z"
    }
   },
   "outputs": [],
   "source": [
    "from __future__ import annotations\n",
    "import json\n",
    "import re\n",
    "import pprint\n",
    "\n",
    "import numpy as np\n",
    "import matplotlib.pyplot as plt\n",
    "from sklearn import datasets\n",
    "from sklearn.metrics import accuracy_score, confusion_matrix\n",
    "from sklearn.model_selection import cross_val_score\n",
    "from sklearn.base import BaseEstimator, ClassifierMixin\n",
    "\n",
    "import numba"
   ]
  },
  {
   "cell_type": "code",
   "execution_count": 8,
   "metadata": {
    "ExecuteTime": {
     "end_time": "2020-03-27T23:08:37.888065Z",
     "start_time": "2020-03-27T23:08:35.477470Z"
    }
   },
   "outputs": [],
   "source": [
    "class Node(dict):\n",
    "    \"\"\"\n",
    "    Representation of tree node kept as simple as possible using a dictionary\n",
    "    \"\"\"\n",
    "    \n",
    "    \n",
    "    def __init__(self, y_ind=None, sample_weights=None, depth=None):\n",
    "        self[\"y_ind\"] = y_ind\n",
    "        self[\"sample_weights\"] = sample_weights\n",
    "        self[\"depth\"] = depth\n",
    "        \n",
    "        self[\"is_leaf\"] = False\n",
    "        self[\"feature_i\"] = None\n",
    "        self[\"split_value\"] = None\n",
    "        self[\"label\"] = None\n",
    "\n",
    "        self[\"yes\"] = None\n",
    "        self[\"no\"] = None\n",
    "\n",
    "    def __repr__(self):\n",
    "        if self[\"is_leaf\"]:\n",
    "            return str({k: v for k, v in zip(self.keys(), self.values()) if k in [\"label\"]})\n",
    "        else:\n",
    "            return str({\n",
    "                \"expr\": f\"feature_{self['feature_i']} <= {self['split_value']}\",\n",
    "                \"yes\": self[\"yes\"],\n",
    "                \"no\": self[\"no\"]\n",
    "            })\n",
    "\n",
    "\n",
    "class ClassificationTree(BaseEstimator, ClassifierMixin):\n",
    "    \"\"\"\n",
    "    Fit an Ordinary Binary Classification tree (OBCT) using node impurity (class entropy) criterion for splitting\n",
    "\n",
    "    Attributes\n",
    "    ----------\n",
    "    max_depth : int\n",
    "        Maximum depth the tree can grow\n",
    "    \n",
    "    min_leaf_samples : int\n",
    "        Minimum number of samples per leaf\n",
    "\n",
    "    min_delta_impurity: float\n",
    "        Minimum impurity decrease. If impurity decrease is not above this value, tree growing stops\n",
    "\n",
    "    Methods\n",
    "    -------\n",
    "    create_node(node)\n",
    "        For a given node, selects in a greedy way the feature and the corresponding split value \n",
    "        that maximally decreases impurity. Then decides if the node is a leaf node, otherwise\n",
    "        assignes its childre (\"yes\" and \"no\")\n",
    "    \n",
    "    fit(X, y)\n",
    "        Iteratively grows the decision tree by calling the ``create_node`` method starting from\n",
    "        the root tree node\n",
    "        \n",
    "    __predict_once(x)\n",
    "        Traverses the fitted tree by applying the conditions on the given sample and returns the leaf label\n",
    "        \n",
    "    predict(X)\n",
    "        Calls ``__predict_once`` iteratively for all given samples in X\n",
    "        \n",
    "    get_depth()\n",
    "        Returns the height (max depth) of the fitted tree\n",
    "    \"\"\"\n",
    "    \n",
    "    \n",
    "    def __init__(self, max_depth: int = 10, min_leaf_samples: int = 1, min_delta_impurity: float = 0.0):\n",
    "        self.max_depth = max_depth\n",
    "        self.min_leaf_samples = min_leaf_samples\n",
    "        self.min_delta_impurity = min_delta_impurity\n",
    "        \n",
    "        self.root_node = None\n",
    "        self.verbose_fit = False\n",
    "    \n",
    "    \n",
    "    def fit(self, X: np.ndarray, y: np.ndarray, sample_weights: np.ndarray = None, verbose_fit: bool = False) -> ClassificationTree:\n",
    "        \"\"\"\n",
    "        Iteratively traverses (inorder) and grows the decision tree by calling the ``create_node`` \n",
    "        method starting from the root tree node\n",
    "        \n",
    "        Parameters\n",
    "        ----------\n",
    "        X : numpy.ndarray\n",
    "            Array of training samples with shape (n_samples, n_features)\n",
    "        \n",
    "        y : numpy.ndarray\n",
    "            Array of training targets with shape (n_samples,)\n",
    "            \n",
    "        sample_weights : numpy.ndarray\n",
    "            Array of weights (normalized) for each sample. If None, equal weighting is assumed\n",
    "            \n",
    "        verbose_fit : bool\n",
    "            If True, the tree is pretty printed at the end of the training\n",
    "        \"\"\"\n",
    "        \n",
    "        \n",
    "        if sample_weights is None:\n",
    "            sample_weights = np.ones(X.shape[0]) / X.shape[0]\n",
    "        \n",
    "        \n",
    "        root_node = Node(y_ind=np.arange(X.shape[0]), sample_weights=sample_weights, depth=1)\n",
    "\n",
    "        # Iterative in-order traversal and growing of the tree\n",
    "        current = root_node\n",
    "        stack = []\n",
    "        while True:\n",
    "            self.create_node(current, X, y)\n",
    "            if current is not None:\n",
    "                stack.append(current)\n",
    "                current = current[\"yes\"]\n",
    "            elif len(stack) > 0:\n",
    "                current = stack.pop()\n",
    "                current = current[\"no\"]\n",
    "            else:\n",
    "                break\n",
    "                \n",
    "        self.root_node = root_node\n",
    "        self.verbose_fit = verbose_fit\n",
    "        \n",
    "        return self\n",
    "    \n",
    "    \n",
    "    def create_node(self, node: Node, X: np.ndarray, y: np.ndarray):\n",
    "        \"\"\"\n",
    "        For a given node, selects in a greedy way the feature and the corresponding split value \n",
    "        that maximally decreases impurity. Then decides if the node is a leaf node, otherwise\n",
    "        assignes its children (\"yes\" and \"no\")\n",
    "\n",
    "        Parameters\n",
    "        ----------\n",
    "        node : Node\n",
    "            A given tree node\n",
    "        node\n",
    "        \"\"\"\n",
    "\n",
    "\n",
    "        if not node:\n",
    "            return\n",
    "\n",
    "        # Subsets of initial samples X and y corresponding to current node\n",
    "        y_t_ind = node[\"y_ind\"]\n",
    "        \n",
    "        X_t = X[y_t_ind, :]\n",
    "        y_t = y[y_t_ind]\n",
    "        sample_weights_t = node[\"sample_weights\"]\n",
    "\n",
    "        n_samples, n_features = X_t.shape\n",
    "\n",
    "        # Apply max depth and min leaf samples critiria\n",
    "        if node[\"depth\"] >= self.max_depth or n_samples * sample_weights_t.sum() <= self.min_leaf_samples:\n",
    "            classes_t = np.unique(y_t)\n",
    "            node[\"is_leaf\"] = True\n",
    "            node[\"label\"] = classes_t[np.argmax([proba(c, y_t, sample_weights_t) for c in classes_t])]\n",
    "            return\n",
    "\n",
    "        I_t = impurity(y_t, sample_weights_t)\n",
    "        N_t = n_samples\n",
    "        delta_imp_t = np.zeros(n_features)\n",
    "        thresholds_t = np.zeros(n_features)\n",
    "\n",
    "        # Double loop: outer for best feature search and inner for best split value search\n",
    "        for fi, f in enumerate(range(n_features)):\n",
    "            X_f = (X_t[:, f])\n",
    "            unique_vals = np.sort(np.unique(X_f))\n",
    "            if unique_vals.shape[0] <= 1:\n",
    "                continue\n",
    "\n",
    "            thresholds_f = (unique_vals[0:-1] + unique_vals[1:]) / 2\n",
    "\n",
    "            delta_imp_f = np.empty(thresholds_f.shape[0])  # impurities for current feature\n",
    "            delta_imp_f = iterate_thresholds(thresholds_f, X_f, y_t, I_t, sample_weights_t, delta_imp_f)\n",
    "            delta_imp_max_i = np.argmax(delta_imp_f)\n",
    "\n",
    "            thresholds_t[fi] = thresholds_f[delta_imp_max_i]\n",
    "            delta_imp_t[fi] = delta_imp_f[delta_imp_max_i]\n",
    "\n",
    "        f_best_t = np.argmax(delta_imp_t)\n",
    "        a_best_t = thresholds_t[np.argmax(delta_imp_t)]\n",
    "\n",
    "        # Apply min impurity decrease critirion\n",
    "        if np.max(delta_imp_t) < self.min_delta_impurity:\n",
    "            classes_t = np.unique(y_t)\n",
    "            node[\"is_leaf\"] = True\n",
    "            node[\"label\"] = classes_t[np.argmax([proba(c, y_t, sample_weights_t) for c in classes_t])]\n",
    "            return\n",
    "\n",
    "        cond = (X_t[:, f_best_t] <= a_best_t)\n",
    "        if (X_t[cond, :].shape[0] == n_samples) or (X_t[~cond, :].shape[0] == n_samples):\n",
    "            classes_t = np.unique(y_t)\n",
    "            node[\"is_leaf\"] = True\n",
    "            node[\"label\"] = classes_t[np.argmax([proba(c, y_t, sample_weights_t) for c in classes_t])]\n",
    "            return\n",
    "\n",
    "        node[\"expression\"] = f\"feature_{f_best_t} <= {a_best_t}\"\n",
    "        node[\"feature_i\"] = f_best_t\n",
    "        node[\"split_value\"] = a_best_t\n",
    "\n",
    "        # Assign children nodes since the current node is not a leaf node\n",
    "        node[\"yes\"] = Node(y_ind=y_t_ind[cond], sample_weights=sample_weights_t[cond], depth=node[\"depth\"] + 1)\n",
    "        node[\"no\"] = Node(y_ind=y_t_ind[~cond], sample_weights=sample_weights_t[~cond], depth=node[\"depth\"] + 1)\n",
    "    \n",
    "    \n",
    "    def __predict_once(self, x):\n",
    "        \"\"\"\n",
    "        Traverses the fitted tree by applying the conditions on the given sample and returns \n",
    "        the leaf label\n",
    "        \n",
    "        Parameters\n",
    "        ----------\n",
    "        \n",
    "        x : numpy.ndarray\n",
    "            Array of size (n_features,) (1D)\n",
    "        \"\"\"\n",
    "        \n",
    "        \n",
    "        node = self.root_node\n",
    "        while True:\n",
    "            if node[\"is_leaf\"]:\n",
    "                return node[\"label\"]\n",
    "            feature_i = node[\"feature_i\"]\n",
    "            split_value = node[\"split_value\"]\n",
    "            if x[feature_i] <= split_value:\n",
    "                node = node[\"yes\"]\n",
    "            else:\n",
    "                node = node[\"no\"]\n",
    "    \n",
    "    \n",
    "    def predict(self, X: np.ndarray) -> np.ndarray:\n",
    "        \"\"\"\n",
    "        Calls ``__predict_once`` iteratively for all given samples in X\n",
    "        \n",
    "        Parameters\n",
    "        ----------\n",
    "        X : numpy.ndarray\n",
    "            Array of testing samples with shape (n_samples, n_features)\n",
    "            \n",
    "        Raises\n",
    "        ------\n",
    "        ValueError\n",
    "            The fit() method has to be called first\n",
    "        \"\"\"\n",
    "        \n",
    "        \n",
    "        if self.root_node is None:\n",
    "            raise ValueError(\"Tree not fitted. Call fit() method first\")\n",
    "            \n",
    "        return np.array([self.__predict_once(x) for x in X])\n",
    "    \n",
    "    \n",
    "    def score(self, X, y):\n",
    "        return accuracy_score(y, self.predict(X))\n",
    "    \n",
    "    \n",
    "    def get_depth(self):\n",
    "        \"\"\"\n",
    "        Returns the height (max depth) of the fitted tree\n",
    "        \"\"\"\n",
    "        \n",
    "        \n",
    "        if self.root_node is None:\n",
    "            return 0\n",
    "        \n",
    "        q = [] \n",
    "        q.append(self.root_node) \n",
    "        height = 0 \n",
    "\n",
    "        while True:\n",
    "            nodeCount = len(q) \n",
    "            if nodeCount == 0 : \n",
    "                return height\n",
    "\n",
    "            height += 1 \n",
    "            while(nodeCount > 0): \n",
    "                node = q[0] \n",
    "                q.pop(0) \n",
    "                if node[\"yes\"] is not None: \n",
    "                    q.append(node[\"yes\"]) \n",
    "                if node[\"no\"] is not None: \n",
    "                    q.append(node[\"no\"]) \n",
    "\n",
    "                nodeCount -= 1\n",
    "    \n",
    "    def __repr__(self):\n",
    "        if not self.verbose_fit:\n",
    "            return str(type(self))\n",
    "        if self.root_node:\n",
    "            tree = str(self.root_node)\n",
    "            tree = tree.replace(\"'\", '\"').replace(\"None\", '\"None\"').replace(\"True\", '\"True\"').replace(\"False\", '\"False\"')\n",
    "            tree = re.sub('\"\\w+\": \"None\", ', \"\", tree)\n",
    "            tree = re.sub(', \"\\w+\": \"None\"}', \"}\", tree)\n",
    "            return pprint.pformat(json.loads(tree))\n",
    "        \n",
    "        \n",
    "@numba.jit(\"float64(int32, float64[:], float64[:])\", nopython=True)\n",
    "def proba(c: int, y: np.ndarray, sample_weights: np.ndarray) -> float:\n",
    "    \"\"\"\n",
    "    Calculates class probability using class appearance frequency\n",
    "    \"\"\"\n",
    "\n",
    "\n",
    "    return sample_weights[y == c].sum() / sample_weights.sum()\n",
    "\n",
    "\n",
    "@numba.jit(\"float64(float64[:], float64[:])\", nopython=True)\n",
    "def impurity(y: np.ndarray, sample_weights: np.ndarray) -> float:\n",
    "    \"\"\"\n",
    "    Calculates class entropy\n",
    "    \"\"\"\n",
    "\n",
    "\n",
    "    classes = np.unique(y)\n",
    "    return -np.sum(np.array([proba(c, y, sample_weights)*np.log2(proba(c, y, sample_weights)) for c in classes]))\n",
    "\n",
    "\n",
    "@numba.jit(\"float64[:](float64[:], float64[:], float64[:], float64, float64[:], float64[:])\", nopython=True)\n",
    "def iterate_thresholds(thresholds_f: np.ndarray, X_f: np.ndarray, y_t: np.ndarray, I_t: np.ndarray, sample_weights_t: np.ndarray, delta_imp_f: np.ndarray):\n",
    "    for ai, a in enumerate(thresholds_f):\n",
    "        cond = (X_f <= a)\n",
    "        y_t_yes = y_t[cond]\n",
    "        sample_weights_t_yes = sample_weights_t[cond]\n",
    "        N_t_yes = y_t_yes.shape[0]\n",
    "\n",
    "        y_t_no = y_t[~cond]\n",
    "        sample_weights_t_no = sample_weights_t[~cond]\n",
    "        N_t_no = y_t_no.shape[0]\n",
    "\n",
    "        delta_imp = I_t - (np.sum(sample_weights_t_yes) / np.sum(sample_weights_t)) * impurity(y_t_yes, sample_weights_t_yes) - \\\n",
    "                          (np.sum(sample_weights_t_no) / np.sum(sample_weights_t)) * impurity(y_t_no, sample_weights_t_no)\n",
    "        delta_imp_f[ai] = delta_imp\n",
    "    return delta_imp_f"
   ]
  },
  {
   "cell_type": "markdown",
   "metadata": {},
   "source": [
    "### Use a simple dataset (Iris)"
   ]
  },
  {
   "cell_type": "code",
   "execution_count": 9,
   "metadata": {
    "ExecuteTime": {
     "end_time": "2020-03-27T23:08:44.867837Z",
     "start_time": "2020-03-27T23:08:44.844832Z"
    }
   },
   "outputs": [],
   "source": [
    "data = datasets.load_iris()\n",
    "X = data[\"data\"]\n",
    "y = data[\"target\"].astype(np.float64)"
   ]
  },
  {
   "cell_type": "markdown",
   "metadata": {},
   "source": [
    "### (Over)fit the tree"
   ]
  },
  {
   "cell_type": "code",
   "execution_count": 10,
   "metadata": {
    "ExecuteTime": {
     "end_time": "2020-03-27T23:08:54.081806Z",
     "start_time": "2020-03-27T23:08:54.055808Z"
    }
   },
   "outputs": [
    {
     "data": {
      "text/plain": [
       "{'expr': 'feature_2 <= 2.45',\n",
       " 'no': {'expr': 'feature_3 <= 1.75',\n",
       "        'no': {'expr': 'feature_2 <= 4.85',\n",
       "               'no': {'label': 2.0},\n",
       "               'yes': {'label': 2.0}},\n",
       "        'yes': {'expr': 'feature_2 <= 4.95',\n",
       "                'no': {'label': 2.0},\n",
       "                'yes': {'label': 1.0}}},\n",
       " 'yes': {'expr': 'feature_0 <= 4.35',\n",
       "         'no': {'expr': 'feature_0 <= 4.45',\n",
       "                'no': {'label': 0.0},\n",
       "                'yes': {'label': 0.0}},\n",
       "         'yes': {'label': 0.0}}}"
      ]
     },
     "execution_count": 10,
     "metadata": {},
     "output_type": "execute_result"
    }
   ],
   "source": [
    "tree = ClassificationTree(max_depth=4, min_leaf_samples=1, min_delta_impurity=0)\n",
    "tree.fit(X, y, verbose_fit=True)"
   ]
  },
  {
   "cell_type": "markdown",
   "metadata": {},
   "source": [
    "### Confusion Matric"
   ]
  },
  {
   "cell_type": "code",
   "execution_count": 11,
   "metadata": {
    "ExecuteTime": {
     "end_time": "2020-03-27T23:09:00.953640Z",
     "start_time": "2020-03-27T23:09:00.935687Z"
    }
   },
   "outputs": [
    {
     "data": {
      "text/plain": [
       "array([[50,  0,  0],\n",
       "       [ 0, 47,  3],\n",
       "       [ 0,  1, 49]], dtype=int64)"
      ]
     },
     "execution_count": 11,
     "metadata": {},
     "output_type": "execute_result"
    }
   ],
   "source": [
    "y_pred = tree.predict(X)\n",
    "confusion_matrix(y, y_pred)"
   ]
  },
  {
   "cell_type": "markdown",
   "metadata": {},
   "source": [
    "### Cross-validated accuracy"
   ]
  },
  {
   "cell_type": "code",
   "execution_count": 12,
   "metadata": {
    "ExecuteTime": {
     "end_time": "2020-03-27T23:09:04.694260Z",
     "start_time": "2020-03-27T23:09:04.605267Z"
    }
   },
   "outputs": [
    {
     "data": {
      "text/plain": [
       "0.96"
      ]
     },
     "execution_count": 12,
     "metadata": {},
     "output_type": "execute_result"
    }
   ],
   "source": [
    "np.mean(cross_val_score(tree, X, y, cv=5))"
   ]
  },
  {
   "cell_type": "markdown",
   "metadata": {
    "ExecuteTime": {
     "end_time": "2020-03-25T20:06:02.803118Z",
     "start_time": "2020-03-25T20:06:02.775123Z"
    }
   },
   "source": [
    "### Plot 2 dimensions of the data and the corresponding decision boundary of the tree\n",
    "We can see the rectangular decision regions created by the tree"
   ]
  },
  {
   "cell_type": "code",
   "execution_count": 35,
   "metadata": {
    "ExecuteTime": {
     "end_time": "2020-03-27T23:12:19.800049Z",
     "start_time": "2020-03-27T23:12:19.499058Z"
    }
   },
   "outputs": [
    {
     "data": {
      "image/png": "[encoded data removed]",
      "text/plain": [
       "<Figure size 504x504 with 1 Axes>"
      ]
     },
     "metadata": {
      "needs_background": "light"
     },
     "output_type": "display_data"
    }
   ],
   "source": [
    "f1, f2 = 2, 3\n",
    "\n",
    "plt.figure(figsize=(7, 7))\n",
    "\n",
    "cm = plt.cm.Spectral\n",
    "\n",
    "h = .05\n",
    "x_min, x_max = X[:, f1].min() - .5, X[:, f1].max() + .5\n",
    "y_min, y_max = X[:, f2].min() - .5, X[:, f2].max() + .5\n",
    "xx, yy = np.meshgrid(np.arange(x_min, x_max, h), np.arange(y_min, y_max, h))\n",
    "\n",
    "tree = ClassificationTree(max_depth=5, min_leaf_samples=1, min_delta_impurity=0.0)\n",
    "tree.fit(X[:, [f1, f2]], y)\n",
    "\n",
    "Z = tree.predict(np.c_[xx.ravel(), yy.ravel()])\n",
    "Z = Z.reshape(xx.shape)\n",
    "plt.contourf(xx, yy, Z, cmap=cm, alpha=.8)\n",
    "\n",
    "plt.scatter(X[:, f1], X[:, f2], c=y, cmap=cm, edgecolor=\"grey\")\n",
    "\n",
    "plt.xlabel(f\"feature {f1+1}\")\n",
    "plt.ylabel(f\"feature {f2+1}\")\n",
    "plt.show()"
   ]
  },
  {
   "cell_type": "code",
   "execution_count": null,
   "metadata": {
    "ExecuteTime": {
     "end_time": "2020-03-25T23:25:22.519801Z",
     "start_time": "2020-03-25T23:25:22.475939Z"
    }
   },
   "outputs": [],
   "source": []
  }
 ],
 "metadata": {
  "kernelspec": {
   "display_name": "Python 3",
   "language": "python",
   "name": "python3"
  },
  "language_info": {
   "codemirror_mode": {
    "name": "ipython",
    "version": 3
   },
   "file_extension": ".py",
   "mimetype": "text/x-python",
   "name": "python",
   "nbconvert_exporter": "python",
   "pygments_lexer": "ipython3",
   "version": "3.7.2"
  }
 },
 "nbformat": 4,
 "nbformat_minor": 4
}
