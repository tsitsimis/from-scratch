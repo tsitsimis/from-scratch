{
 "cells": [
  {
   "cell_type": "markdown",
   "metadata": {},
   "source": [
    "## AdaBoost\n",
    "Adaptive Boosting. Implementation with trees as weak learners\n",
    "\n",
    "**Mathematical Background:**  \n",
    "Goal is to estimate the paremeters of weak models and the weights to combine the models' decisions to produce a final prediction:  \n",
    "  \n",
    "<center style=\"margin: 20px;\">$F(x) = \\sum_{k=1}^{N}a_k\\phi(x;\\theta_k)$</center>\n",
    "\n",
    "where $N$ is the number of samples and $\\phi(x;\\theta)$ is a weak classifier, by minimizing the cost function $\\sum_{k=1}^{N}\\exp(-y_iF(x_i))$ in terms of $a_k$ and $\\theta_k$\n",
    "\n",
    "Since this problem is generally hard, we optimize each weak model of the partial sum $F_m(x)$ assuming optimality for previous terms:\n",
    "\n",
    "<center style=\"margin: 20px;\">$F_{m}(x) = F_{m-1}(x) + a_m\\phi(x;\\theta_m)$</center>\n",
    "\n",
    "Key point is that when optimizing $\\phi(x;\\theta_m)$ in terms of $\\theta_m$, the samples $x_i$ are weighted according to the ability of the classifier of the previous step to classify them correctly. The weights are $w_i = \\exp(-y_iF_{m-1}(x_i))$.  \n",
    "\n",
    "Given these weights, the current classifier's objective is to minimize the classification error, weighting each sample accordingly. For example, a classification tree can be used as weak learner using sample weights to calculate class probabilities"
   ]
  },
  {
   "cell_type": "code",
   "execution_count": 1,
   "metadata": {
    "ExecuteTime": {
     "end_time": "2020-04-12T12:33:17.725078Z",
     "start_time": "2020-04-12T12:33:17.705076Z"
    }
   },
   "outputs": [
    {
     "data": {
      "text/html": [
       "<style>.container {width: 98%}</style>\n"
      ],
      "text/plain": [
       "<IPython.core.display.HTML object>"
      ]
     },
     "metadata": {},
     "output_type": "display_data"
    }
   ],
   "source": [
    "%%html\n",
    "<style>.container {width: 98%}</style>"
   ]
  },
  {
   "cell_type": "code",
   "execution_count": 2,
   "metadata": {
    "ExecuteTime": {
     "end_time": "2020-04-12T12:33:19.972220Z",
     "start_time": "2020-04-12T12:33:19.300218Z"
    }
   },
   "outputs": [],
   "source": [
    "%load_ext autoreload\n",
    "%autoreload 2"
   ]
  },
  {
   "cell_type": "code",
   "execution_count": 12,
   "metadata": {
    "ExecuteTime": {
     "end_time": "2020-04-12T13:47:16.901553Z",
     "start_time": "2020-04-12T13:47:15.556523Z"
    }
   },
   "outputs": [],
   "source": [
    "from __future__ import annotations\n",
    "from functools import reduce\n",
    "\n",
    "import numpy as np\n",
    "import matplotlib.pyplot as plt\n",
    "from sklearn import datasets\n",
    "from sklearn.metrics import accuracy_score, confusion_matrix\n",
    "from sklearn.model_selection import cross_val_score\n",
    "from sklearn.base import BaseEstimator, ClassifierMixin\n",
    "\n",
    "import sys\n",
    "sys.path.insert(0, \"../\")\n",
    "from fromscratch.supervised.adaboost import AdaBoost\n",
    "from fromscratch.supervised.classification_tree import ClassificationTree"
   ]
  },
  {
   "cell_type": "markdown",
   "metadata": {},
   "source": [
    "### Use a simple dataset with 2 classes"
   ]
  },
  {
   "cell_type": "code",
   "execution_count": 7,
   "metadata": {
    "ExecuteTime": {
     "end_time": "2020-04-12T13:45:21.478165Z",
     "start_time": "2020-04-12T13:45:20.226053Z"
    }
   },
   "outputs": [],
   "source": [
    "data = datasets.load_breast_cancer()\n",
    "X = data[\"data\"]\n",
    "y = data[\"target\"].astype(np.float64)\n",
    "y[y == 0] = -1"
   ]
  },
  {
   "cell_type": "markdown",
   "metadata": {},
   "source": [
    "#### (Over)fit the model"
   ]
  },
  {
   "cell_type": "code",
   "execution_count": 8,
   "metadata": {
    "ExecuteTime": {
     "end_time": "2020-04-12T13:45:46.286036Z",
     "start_time": "2020-04-12T13:45:21.481978Z"
    }
   },
   "outputs": [
    {
     "data": {
      "text/plain": [
       "AdaBoost()"
      ]
     },
     "execution_count": 8,
     "metadata": {},
     "output_type": "execute_result"
    }
   ],
   "source": [
    "ada = AdaBoost()\n",
    "ada.fit(X, y, max_iters=15)"
   ]
  },
  {
   "cell_type": "code",
   "execution_count": 9,
   "metadata": {
    "ExecuteTime": {
     "end_time": "2020-04-12T13:45:56.669578Z",
     "start_time": "2020-04-12T13:45:55.379617Z"
    }
   },
   "outputs": [
    {
     "data": {
      "text/plain": [
       "array([[212,   0],\n",
       "       [  0, 357]], dtype=int64)"
      ]
     },
     "execution_count": 9,
     "metadata": {},
     "output_type": "execute_result"
    }
   ],
   "source": [
    "y_pred = ada.predict(X)\n",
    "confusion_matrix(y, y_pred)"
   ]
  },
  {
   "cell_type": "markdown",
   "metadata": {},
   "source": [
    "#### Cross-validated score"
   ]
  },
  {
   "cell_type": "code",
   "execution_count": 10,
   "metadata": {
    "ExecuteTime": {
     "end_time": "2020-04-12T13:46:51.323555Z",
     "start_time": "2020-04-12T13:45:57.737522Z"
    }
   },
   "outputs": [
    {
     "data": {
      "text/plain": [
       "0.9578481602235677"
      ]
     },
     "execution_count": 10,
     "metadata": {},
     "output_type": "execute_result"
    }
   ],
   "source": [
    "np.mean(cross_val_score(ada, X, y, cv=5))"
   ]
  },
  {
   "cell_type": "markdown",
   "metadata": {},
   "source": [
    "#### Compare with a simple decision tree\n",
    "With the same parameters as the weak learner of AdaBoost"
   ]
  },
  {
   "cell_type": "code",
   "execution_count": 13,
   "metadata": {
    "ExecuteTime": {
     "end_time": "2020-04-12T13:47:22.206393Z",
     "start_time": "2020-04-12T13:47:21.049393Z"
    }
   },
   "outputs": [],
   "source": [
    "tree = ClassificationTree(max_depth=4, min_leaf_samples=1, min_delta_impurity=0.0)"
   ]
  },
  {
   "cell_type": "code",
   "execution_count": 14,
   "metadata": {
    "ExecuteTime": {
     "end_time": "2020-04-12T13:47:29.098068Z",
     "start_time": "2020-04-12T13:47:22.912063Z"
    }
   },
   "outputs": [
    {
     "data": {
      "text/plain": [
       "0.9192206179164726"
      ]
     },
     "execution_count": 14,
     "metadata": {},
     "output_type": "execute_result"
    }
   ],
   "source": [
    "np.mean(cross_val_score(tree, X, y, cv=5))"
   ]
  },
  {
   "cell_type": "markdown",
   "metadata": {
    "ExecuteTime": {
     "end_time": "2020-03-27T23:47:23.200285Z",
     "start_time": "2020-03-27T23:47:21.369280Z"
    }
   },
   "source": [
    "We can see that the boosted method performed better"
   ]
  },
  {
   "cell_type": "code",
   "execution_count": null,
   "metadata": {},
   "outputs": [],
   "source": []
  }
 ],
 "metadata": {
  "kernelspec": {
   "display_name": "Python 3",
   "language": "python",
   "name": "python3"
  },
  "language_info": {
   "codemirror_mode": {
    "name": "ipython",
    "version": 3
   },
   "file_extension": ".py",
   "mimetype": "text/x-python",
   "name": "python",
   "nbconvert_exporter": "python",
   "pygments_lexer": "ipython3",
   "version": "3.7.2"
  }
 },
 "nbformat": 4,
 "nbformat_minor": 4
}
