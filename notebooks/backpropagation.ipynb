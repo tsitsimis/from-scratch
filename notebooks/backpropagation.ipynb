{
 "cells": [
  {
   "cell_type": "markdown",
   "metadata": {},
   "source": [
    "# Backpropagation\n",
    "(In the context of fully-connected neural networks)  \n",
    "\n",
    "**Mathematical background:**  \n",
    "Following the most common literature notation, exponents denote layers and subscripts denote vector components. In case of weights they denote the weight connecting a node of the previous layer to a node of the next (written backwards), i.e. $w_{jk}^{l}$ is the weight connecting the node $k$ of layer $l-1$ to the node $j$ of layer $l$.\n",
    "\n",
    "<img src=\"neural-network.png\" />\n",
    "\n",
    "Activation: $a_j^{l+1} = \\sigma(z_j^{l+1}) = \\sigma\\left(\\sum\\limits_{k=0}^{n_{l}} w_{jk}^{l+1} a_k^l\\right)$  \n",
    "where the bias is incorporated in the weights after augmenting $a^l$ by an extra component equal to 1.\n",
    "\n",
    "The cost function $C$ is a fuction (MSE, Cross-entropy, etc) of the final activation layer and the true labels: $C = C(a^L, y)$  \n",
    "What we are looking for is the derivative of the cost w.r.t. the weights:  \n",
    "\n",
    "$\n",
    "\\large \\frac{ \\partial C }{ \\partial w_{jk}^{l} } = \\frac{ \\partial C }{ \\partial a_{j}^{l} } \\cdot \\frac{ \\partial a_j^l }{ \\partial z_{j}^{l} } \\cdot \\frac{ \\partial z_j^l }{ \\partial w_{jk}^{l} } = \\frac{ \\partial C }{ \\partial a_{j}^{l} } \\cdot \\sigma^\\prime(z_{j}^{l}) \\cdot a_{k}^{l-1}\n",
    "$  \n",
    "\n",
    "All derivatives are easy to compute except $\\large \\frac{ \\partial C }{ \\partial a_{j}^{l} }$. For this one though we can find a recursive formula by applying the chain rule:  \n",
    "\n",
    "$\\large \\frac{ \\partial C }{ \\partial a_{k}^{l} } = \\sum\\limits_{j} \\frac{ \\partial C }{ \\partial a_{j}^{l+1} } \\cdot \\frac{ \\partial a_{j}^{l+1} }{ \\partial z_{j}^{l+1} } \\cdot \\frac{ \\partial z_{j}^{l+1} }{ \\partial a_{k}^{l} } = \\sum\\limits_{j} \\frac{ \\partial C }{ \\partial a_{j}^{l+1} } \\cdot \\sigma^\\prime(z_{j}^{l+1}) \\cdot w_{jk}^{l+1}\n",
    "$ \n",
    "\n",
    "\n",
    "The summation combines the effect of the node $k$ of layer $l$ to all the nodes of layer $l+1$.  \n",
    "\n",
    "This is it.  \n",
    "We expressed the derivative we are interested in, in terms of the derivative of the next layer. So by starting from the last layer and going backwards we can calculate all needed derivatives.  \n",
    "\n",
    "What we finally need is these equations in vector/matrix form so that our implementation is efficient.  \n",
    "Given the weight matrix:  \n",
    "$\n",
    "W^{l+1} = (w_{jk}^{l+1}) = \n",
    "\\begin{bmatrix}\n",
    "w_{11} & w_{12} & \\cdots w_{1n_{l}} \\\\\n",
    "w_{21} & w_{22} & \\cdots w_{1n_{l}} \\\\\n",
    "\\vdots & & \\vdots \\\\\n",
    "w_{n_{l+1}1} & w_{n_{l+1}2} & \\cdots  w_{n_{l+1}n_{l}} \\\\\n",
    "\\end{bmatrix}\n",
    "$\n",
    "\n",
    "we can write $\\nabla_{a^{l}} C = [\\frac{ \\partial C }{ \\partial a_{1}^{l} }, \\frac{ \\partial C }{ \\partial a_{2}^{l} }, \\cdots]^T$ as:\n",
    "\n",
    "$\n",
    "\\large \\nabla_{a^{l}} C = (W^{l+1})^T \\cdot (\\nabla_{a^{l+1}} C) \\odot \\sigma^\\prime(z^{l+1})\n",
    "$\n",
    "\n",
    "Finally, the scalar-by-matrix derivative of cost w.r.t. the weight matrix is:  \n",
    "$\n",
    "\\large \\nabla_{W^{l}} C = ( (\\nabla_{a^{l}} C) \\odot\\sigma^\\prime(z^{l}) ) \\cdot (a^{l-1})^T\n",
    "$"
   ]
  },
  {
   "cell_type": "code",
   "execution_count": 1,
   "metadata": {
    "ExecuteTime": {
     "end_time": "2020-04-05T21:16:20.711676Z",
     "start_time": "2020-04-05T21:16:20.688672Z"
    }
   },
   "outputs": [
    {
     "data": {
      "text/html": [
       "<style>.container {width: 98%}</style>\n"
      ],
      "text/plain": [
       "<IPython.core.display.HTML object>"
      ]
     },
     "metadata": {},
     "output_type": "display_data"
    }
   ],
   "source": [
    "%%html\n",
    "<style>.container {width: 98%}</style>"
   ]
  },
  {
   "cell_type": "code",
   "execution_count": 2,
   "metadata": {
    "ExecuteTime": {
     "end_time": "2020-04-05T21:16:22.563678Z",
     "start_time": "2020-04-05T21:16:21.762690Z"
    }
   },
   "outputs": [],
   "source": [
    "%load_ext autoreload\n",
    "%autoreload 2"
   ]
  },
  {
   "cell_type": "code",
   "execution_count": 40,
   "metadata": {
    "ExecuteTime": {
     "end_time": "2020-04-05T21:27:06.303224Z",
     "start_time": "2020-04-05T21:27:04.330227Z"
    }
   },
   "outputs": [],
   "source": [
    "from __future__ import annotations\n",
    "from functools import partial\n",
    "\n",
    "import numpy as np\n",
    "import matplotlib.pyplot as plt\n",
    "from sklearn import datasets\n",
    "from sklearn.metrics import accuracy_score, confusion_matrix\n",
    "from sklearn.model_selection import cross_val_score\n",
    "from sklearn.base import BaseEstimator, ClassifierMixin\n",
    "from sklearn.preprocessing import OneHotEncoder\n",
    "\n",
    "import sys\n",
    "sys.path.insert(0, \"../\")\n",
    "from neuralnetworks.nn import NN, Linear\n",
    "from neuralnetworks.loss import Loss, mse, crossentropy, softmax\n",
    "from neuralnetworks.activations import relu"
   ]
  },
  {
   "cell_type": "markdown",
   "metadata": {},
   "source": [
    "### Create some synthetic data"
   ]
  },
  {
   "cell_type": "code",
   "execution_count": 4,
   "metadata": {
    "ExecuteTime": {
     "end_time": "2020-04-05T21:16:56.865716Z",
     "start_time": "2020-04-05T21:16:55.260715Z"
    }
   },
   "outputs": [],
   "source": [
    "N = 100\n",
    "dim = 1\n",
    "X = np.random.random((N, dim))\n",
    "X = np.sort(X, axis=0)\n",
    "y = 2*X*X + 1  # for regression\n",
    "y = y.T[0]\n",
    "\n",
    "y_c = ((y > y.mean()) & (y < 0.8*y.max())).astype(int)  # for classification\n",
    "y_c_oh = OneHotEncoder(sparse=False).fit_transform(y_c[:, None])"
   ]
  },
  {
   "cell_type": "markdown",
   "metadata": {},
   "source": [
    "### Regression task"
   ]
  },
  {
   "cell_type": "code",
   "execution_count": 147,
   "metadata": {
    "ExecuteTime": {
     "end_time": "2020-04-05T21:36:54.842651Z",
     "start_time": "2020-04-05T21:36:53.714654Z"
    }
   },
   "outputs": [
    {
     "name": "stdout",
     "output_type": "stream",
     "text": [
      "Fead-forward Neural Network\n",
      "---------------------------\n",
      "4 layers: [10, 10, 10, 1]\n",
      "\n",
      "       Inputs\n",
      "       \\ | /\n",
      " o o o o o o o o o o \n",
      "       \\ | /\n",
      " o o o o o o o o o o \n",
      "       \\ | /\n",
      " o o o o o o o o o o \n",
      "          | \n",
      "          o \n",
      "       Outputs\n"
     ]
    },
    {
     "data": {
      "text/plain": []
     },
     "execution_count": 147,
     "metadata": {},
     "output_type": "execute_result"
    }
   ],
   "source": [
    "net1 = NN(layers=[\n",
    "    Linear(10, input_size=2),\n",
    "    Linear(10),\n",
    "    Linear(10),\n",
    "    Linear(1)\n",
    "])\n",
    "net1"
   ]
  },
  {
   "cell_type": "code",
   "execution_count": 28,
   "metadata": {
    "ExecuteTime": {
     "end_time": "2020-04-05T21:22:21.098193Z",
     "start_time": "2020-04-05T21:22:19.931195Z"
    }
   },
   "outputs": [],
   "source": [
    "loss = Loss(net1, mse)"
   ]
  },
  {
   "cell_type": "code",
   "execution_count": 132,
   "metadata": {
    "ExecuteTime": {
     "end_time": "2020-04-05T21:34:43.899971Z",
     "start_time": "2020-04-05T21:34:42.239966Z"
    }
   },
   "outputs": [
    {
     "data": {
      "text/plain": [
       "<matplotlib.legend.Legend at 0x2c1f0f91cf8>"
      ]
     },
     "execution_count": 132,
     "metadata": {},
     "output_type": "execute_result"
    },
    {
     "data": {
      "image/png": "[encoded data removed]",
      "text/plain": [
       "<Figure size 432x288 with 1 Axes>"
      ]
     },
     "metadata": {
      "needs_background": "light"
     },
     "output_type": "display_data"
    }
   ],
   "source": [
    "lr = 1e-5\n",
    "\n",
    "for epoch in range(5000):\n",
    "    loss.backward(X, y)\n",
    "    \n",
    "    for layer in range(net1.n_layers-1):\n",
    "        grad_w = net1.layers[layer].grad_w\n",
    "        net1.layers[layer].weights = net1.layers[layer].weights - lr * grad_w\n",
    "\n",
    "\n",
    "plt.plot(X.T[0], y, marker=\".\", c=\"k\", label=\"samples\")\n",
    "plt.plot(X.T[0], net1.forward(X), marker=\".\", c=\"r\", label=\"predictions\")\n",
    "plt.legend()"
   ]
  },
  {
   "cell_type": "markdown",
   "metadata": {
    "ExecuteTime": {
     "end_time": "2020-04-05T20:16:37.326116Z",
     "start_time": "2020-04-05T20:16:37.319123Z"
    }
   },
   "source": [
    "### Classification task"
   ]
  },
  {
   "cell_type": "code",
   "execution_count": 134,
   "metadata": {
    "ExecuteTime": {
     "end_time": "2020-04-05T21:35:20.436733Z",
     "start_time": "2020-04-05T21:35:19.300730Z"
    }
   },
   "outputs": [
    {
     "name": "stdout",
     "output_type": "stream",
     "text": [
      "Fead-forward Neural Network\n",
      "---------------------------\n",
      "3 layers: [10, 10, 2]\n",
      "\n",
      "       Inputs\n",
      "       \\ | /\n",
      " o o o o o o o o o o \n",
      "       \\ | /\n",
      " o o o o o o o o o o \n",
      "       \\  /\n",
      "       o o \n",
      "       Outputs\n"
     ]
    },
    {
     "data": {
      "text/plain": []
     },
     "execution_count": 134,
     "metadata": {},
     "output_type": "execute_result"
    }
   ],
   "source": [
    "net2 = NN(layers=[\n",
    "    Linear(10, input_size=2),\n",
    "    Linear(10),\n",
    "    Linear(2)\n",
    "])\n",
    "net2"
   ]
  },
  {
   "cell_type": "code",
   "execution_count": 135,
   "metadata": {
    "ExecuteTime": {
     "end_time": "2020-04-05T21:35:21.645753Z",
     "start_time": "2020-04-05T21:35:20.443736Z"
    }
   },
   "outputs": [],
   "source": [
    "loss = Loss(net2, partial(crossentropy, y2_normalized=False))"
   ]
  },
  {
   "cell_type": "code",
   "execution_count": 146,
   "metadata": {
    "ExecuteTime": {
     "end_time": "2020-04-05T21:36:05.626886Z",
     "start_time": "2020-04-05T21:36:03.957887Z"
    }
   },
   "outputs": [
    {
     "data": {
      "text/plain": [
       "<matplotlib.legend.Legend at 0x2c1f1482d30>"
      ]
     },
     "execution_count": 146,
     "metadata": {},
     "output_type": "execute_result"
    },
    {
     "data": {
      "image/png": "[encoded data removed]",
      "text/plain": [
       "<Figure size 432x288 with 1 Axes>"
      ]
     },
     "metadata": {
      "needs_background": "light"
     },
     "output_type": "display_data"
    }
   ],
   "source": [
    "lr = 1e-3\n",
    "\n",
    "for epoch in range(1000):\n",
    "    loss.backward(X, y_c_oh)\n",
    "    \n",
    "    for layer in range(net2.n_layers-1):\n",
    "        grad_w = net2.layers[layer].grad_w\n",
    "        net2.layers[layer].weights = net2.layers[layer].weights - lr * grad_w\n",
    "\n",
    "\n",
    "plt.plot(X.T[0], y_c_oh[:, 1], marker=\".\", c=\"k\", label=\"samples\")\n",
    "plt.plot(X.T[0], softmax(net2.forward(X))[:, 1], marker=\".\", c=\"r\", label=\"predictions\")\n",
    "plt.legend()"
   ]
  },
  {
   "cell_type": "code",
   "execution_count": null,
   "metadata": {},
   "outputs": [],
   "source": []
  }
 ],
 "metadata": {
  "kernelspec": {
   "display_name": "Python 3",
   "language": "python",
   "name": "python3"
  },
  "language_info": {
   "codemirror_mode": {
    "name": "ipython",
    "version": 3
   },
   "file_extension": ".py",
   "mimetype": "text/x-python",
   "name": "python",
   "nbconvert_exporter": "python",
   "pygments_lexer": "ipython3",
   "version": "3.7.2"
  }
 },
 "nbformat": 4,
 "nbformat_minor": 4
}
