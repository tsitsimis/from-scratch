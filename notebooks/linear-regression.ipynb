{
 "cells": [
  {
   "cell_type": "markdown",
   "metadata": {},
   "source": [
    "# Linear Regression\n",
    "Simple implementation of multivariate linear regression\n",
    "\n",
    "**Mathematical background:**  \n",
    "Given a set of $N$ input variables $X = \\{x_1, x_2, ..., x_N\\}$ of dimension $d$  ($x_i \\in \\mathbb{R}^d $) and target values $y$,\n",
    "a linear model is assumed to find a linear weight vector $b$ that maps $X$ to $y$:  \n",
    "\n",
    "$X \\cdot b \\approx y$  \n",
    "\n",
    "which is equivalent to the minimization problem:  \n",
    "\n",
    "$min_b \\parallel Xb - y \\parallel^2$\n",
    "\n",
    "Using the Least Squares Estimation method, one can derive the solution:  \n",
    "\n",
    "$b = (X^TX)^{-1}X^Ty$  \n",
    "\n",
    "where $X^+ = (X^TX)^{-1}X^T$ is the pseudo-inverse of the matrix $X$"
   ]
  },
  {
   "cell_type": "code",
   "execution_count": 1,
   "metadata": {
    "ExecuteTime": {
     "end_time": "2020-04-12T17:53:54.550855Z",
     "start_time": "2020-04-12T17:53:54.533855Z"
    }
   },
   "outputs": [
    {
     "data": {
      "text/html": [
       "<style>.container {width: 98%}</style>\n"
      ],
      "text/plain": [
       "<IPython.core.display.HTML object>"
      ]
     },
     "metadata": {},
     "output_type": "display_data"
    }
   ],
   "source": [
    "%%html\n",
    "<style>.container {width: 98%}</style>"
   ]
  },
  {
   "cell_type": "code",
   "execution_count": 2,
   "metadata": {
    "ExecuteTime": {
     "end_time": "2020-04-12T17:53:55.507852Z",
     "start_time": "2020-04-12T17:53:54.836852Z"
    }
   },
   "outputs": [],
   "source": [
    "%load_ext autoreload\n",
    "%autoreload 2"
   ]
  },
  {
   "cell_type": "code",
   "execution_count": 3,
   "metadata": {
    "ExecuteTime": {
     "end_time": "2020-04-12T17:53:57.317639Z",
     "start_time": "2020-04-12T17:53:55.773922Z"
    }
   },
   "outputs": [],
   "source": [
    "from __future__ import annotations\n",
    "\n",
    "import numpy as np\n",
    "import matplotlib.pyplot as plt\n",
    "\n",
    "import sys\n",
    "sys.path.insert(0, \"../\")\n",
    "from fromscratch.supervised.linear_regression import LinearRegression"
   ]
  },
  {
   "cell_type": "markdown",
   "metadata": {},
   "source": [
    "### Mock data"
   ]
  },
  {
   "cell_type": "code",
   "execution_count": 4,
   "metadata": {
    "ExecuteTime": {
     "end_time": "2020-04-12T17:54:02.541718Z",
     "start_time": "2020-04-12T17:53:58.692718Z"
    }
   },
   "outputs": [],
   "source": [
    "# 1 million points, 100 dimensions\n",
    "n_samples = 1_000_000\n",
    "dims = 100\n",
    "X = 10 + 100*np.random.random((n_samples, dims))\n",
    "\n",
    "true_betas = 10*np.random.random(dims + 1)\n",
    "y = true_betas[0] + X.dot(true_betas[1:]) + np.random.normal(loc=0, scale=50.0, size=n_samples)"
   ]
  },
  {
   "cell_type": "markdown",
   "metadata": {},
   "source": [
    "### Test model"
   ]
  },
  {
   "cell_type": "code",
   "execution_count": 5,
   "metadata": {
    "ExecuteTime": {
     "end_time": "2020-04-12T17:54:09.482725Z",
     "start_time": "2020-04-12T17:54:02.546728Z"
    }
   },
   "outputs": [],
   "source": [
    "reg = LinearRegression()\n",
    "reg.fit(X, y)\n",
    "y_pred = reg.predict(X)"
   ]
  },
  {
   "cell_type": "code",
   "execution_count": 6,
   "metadata": {
    "ExecuteTime": {
     "end_time": "2020-04-12T17:54:09.990753Z",
     "start_time": "2020-04-12T17:54:09.487730Z"
    }
   },
   "outputs": [
    {
     "data": {
      "text/plain": [
       "'99 out of 101 coefficients were correct within 1% error'"
      ]
     },
     "execution_count": 6,
     "metadata": {},
     "output_type": "execute_result"
    }
   ],
   "source": [
    "f\"{np.isclose(reg.betas, true_betas, rtol=0.01).sum()} out of {true_betas.shape[0]} coefficients were correct within 1% error\""
   ]
  },
  {
   "cell_type": "code",
   "execution_count": 7,
   "metadata": {
    "ExecuteTime": {
     "end_time": "2020-04-12T17:54:10.617724Z",
     "start_time": "2020-04-12T17:54:09.995728Z"
    }
   },
   "outputs": [
    {
     "data": {
      "text/plain": [
       "'1,000,000 out of 1,000,000 predictions were correct within 1% error'"
      ]
     },
     "execution_count": 7,
     "metadata": {},
     "output_type": "execute_result"
    }
   ],
   "source": [
    "f\"{np.isclose(y_pred, y, rtol=0.01).sum():,} out of {y.shape[0]:,} predictions were correct within 1% error\""
   ]
  },
  {
   "cell_type": "code",
   "execution_count": 8,
   "metadata": {
    "ExecuteTime": {
     "end_time": "2020-04-12T17:54:11.214732Z",
     "start_time": "2020-04-12T17:54:10.623726Z"
    }
   },
   "outputs": [
    {
     "data": {
      "text/plain": [
       "0.9991125237287206"
      ]
     },
     "execution_count": 8,
     "metadata": {},
     "output_type": "execute_result"
    }
   ],
   "source": [
    "reg.rsquared"
   ]
  },
  {
   "cell_type": "markdown",
   "metadata": {
    "ExecuteTime": {
     "end_time": "2020-03-25T11:37:55.576321Z",
     "start_time": "2020-03-25T11:37:53.256109Z"
    }
   },
   "source": [
    "### Visualize 1D data and predictions"
   ]
  },
  {
   "cell_type": "code",
   "execution_count": 9,
   "metadata": {
    "ExecuteTime": {
     "end_time": "2020-04-12T17:54:40.339948Z",
     "start_time": "2020-04-12T17:54:39.518953Z"
    }
   },
   "outputs": [],
   "source": [
    "X_1d = 100*np.random.random((100, 1))\n",
    "\n",
    "true_betas1 = 10 + np.random.random(2)\n",
    "y_1d = true_betas1[0] + X_1d.dot(true_betas1[1:]) + np.random.normal(loc=0, scale=60.0, size=100)"
   ]
  },
  {
   "cell_type": "code",
   "execution_count": 10,
   "metadata": {
    "ExecuteTime": {
     "end_time": "2020-04-12T17:54:40.950958Z",
     "start_time": "2020-04-12T17:54:40.344951Z"
    }
   },
   "outputs": [
    {
     "data": {
      "text/plain": [
       "<matplotlib.collections.PathCollection at 0x23258385c18>"
      ]
     },
     "execution_count": 10,
     "metadata": {},
     "output_type": "execute_result"
    },
    {
     "data": {
      "image/png": "[encoded data removed]",
      "text/plain": [
       "<Figure size 432x288 with 1 Axes>"
      ]
     },
     "metadata": {
      "needs_background": "light"
     },
     "output_type": "display_data"
    }
   ],
   "source": [
    "plt.scatter(X_1d[:, 0], y_1d)"
   ]
  },
  {
   "cell_type": "code",
   "execution_count": 11,
   "metadata": {
    "ExecuteTime": {
     "end_time": "2020-04-12T17:54:43.173634Z",
     "start_time": "2020-04-12T17:54:42.490636Z"
    }
   },
   "outputs": [],
   "source": [
    "reg_1d = LinearRegression()\n",
    "reg_1d.fit(X_1d, y_1d)\n",
    "y_1d_pred = reg_1d.predict(X_1d)"
   ]
  },
  {
   "cell_type": "code",
   "execution_count": 12,
   "metadata": {
    "ExecuteTime": {
     "end_time": "2020-04-12T17:54:43.707647Z",
     "start_time": "2020-04-12T17:54:43.178639Z"
    }
   },
   "outputs": [
    {
     "data": {
      "text/plain": [
       "[<matplotlib.lines.Line2D at 0x232583c7630>]"
      ]
     },
     "execution_count": 12,
     "metadata": {},
     "output_type": "execute_result"
    },
    {
     "data": {
      "image/png": "[encoded data removed]",
      "text/plain": [
       "<Figure size 432x288 with 1 Axes>"
      ]
     },
     "metadata": {
      "needs_background": "light"
     },
     "output_type": "display_data"
    }
   ],
   "source": [
    "plt.scatter(X_1d[:, 0], y_1d)\n",
    "plt.plot(X_1d[:, 0], y_1d_pred, c=\"red\")"
   ]
  },
  {
   "cell_type": "code",
   "execution_count": 13,
   "metadata": {
    "ExecuteTime": {
     "end_time": "2020-04-12T17:54:46.784851Z",
     "start_time": "2020-04-12T17:54:46.340850Z"
    }
   },
   "outputs": [
    {
     "data": {
      "text/plain": [
       "0.9669739658319028"
      ]
     },
     "execution_count": 13,
     "metadata": {},
     "output_type": "execute_result"
    }
   ],
   "source": [
    "reg_1d.rsquared"
   ]
  },
  {
   "cell_type": "code",
   "execution_count": null,
   "metadata": {},
   "outputs": [],
   "source": []
  }
 ],
 "metadata": {
  "kernelspec": {
   "display_name": "Python 3",
   "language": "python",
   "name": "python3"
  },
  "language_info": {
   "codemirror_mode": {
    "name": "ipython",
    "version": 3
   },
   "file_extension": ".py",
   "mimetype": "text/x-python",
   "name": "python",
   "nbconvert_exporter": "python",
   "pygments_lexer": "ipython3",
   "version": "3.7.2"
  }
 },
 "nbformat": 4,
 "nbformat_minor": 4
}
