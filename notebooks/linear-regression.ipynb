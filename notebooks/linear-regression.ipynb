{
 "cells": [
  {
   "cell_type": "markdown",
   "metadata": {},
   "source": [
    "# Linear Regression\n",
    "Simple implementation of multivariate linear regression\n",
    "\n",
    "**Mathematical background:**  \n",
    "Given a set of $N$ input variables $X = \\{x_1, x_2, ..., x_N\\}$ of dimension $d$  ($x_i \\in \\mathbb{R}^d $) and target values $y$,\n",
    "a linear model is assumed to find a linear weight vector $b$ that maps $X$ to $y$:  \n",
    "\n",
    "$X \\cdot b \\approx y$  \n",
    "\n",
    "which is equivalent to the minimization problem:  \n",
    "\n",
    "$min_b \\parallel Xb - y \\parallel^2$\n",
    "\n",
    "Using the Least Squares Estimation method, one can derive the solution:  \n",
    "\n",
    "$b = (X^TX)^{-1}X^Ty$  \n",
    "\n",
    "where $X^+ = (X^TX)^{-1}X^T$ is the pseudo-inverse of the matrix $X$"
   ]
  },
  {
   "cell_type": "code",
   "execution_count": 58,
   "metadata": {
    "ExecuteTime": {
     "end_time": "2020-03-25T10:27:41.426956Z",
     "start_time": "2020-03-25T10:27:41.418867Z"
    }
   },
   "outputs": [
    {
     "data": {
      "text/html": [
       "<style>.container {width: 98%}</style>\n"
      ],
      "text/plain": [
       "<IPython.core.display.HTML object>"
      ]
     },
     "metadata": {},
     "output_type": "display_data"
    }
   ],
   "source": [
    "%%html\n",
    "<style>.container {width: 98%}</style>"
   ]
  },
  {
   "cell_type": "code",
   "execution_count": 193,
   "metadata": {
    "ExecuteTime": {
     "end_time": "2020-03-25T11:37:05.395889Z",
     "start_time": "2020-03-25T11:37:04.424132Z"
    }
   },
   "outputs": [],
   "source": [
    "from __future__ import annotations\n",
    "\n",
    "import numpy as np\n",
    "import matplotlib.pyplot as plt"
   ]
  },
  {
   "cell_type": "code",
   "execution_count": 262,
   "metadata": {
    "ExecuteTime": {
     "end_time": "2020-03-25T11:47:25.472951Z",
     "start_time": "2020-03-25T11:47:25.458193Z"
    }
   },
   "outputs": [],
   "source": [
    "class LinearRegression:\n",
    "    \"\"\"\n",
    "    Fit line (weighted linear function) using Least Squares Estimation (matrix inversion)\n",
    "\n",
    "    Attributes\n",
    "    ----------\n",
    "    betas : numpy.ndarray\n",
    "        Array of shape (n_features + 1) containing fit coefficients (including intercept)\n",
    "    \n",
    "    rsquared : float\n",
    "        Coefficient of determination. Denotes the proportion of the variance in the \n",
    "        dependent variable that is predictable from the independent variable(s)\n",
    "\n",
    "    Methods\n",
    "    -------\n",
    "    fit(X, y)\n",
    "        Estimates the linear model betas (weights/coefficients)\n",
    "        \n",
    "    predict(X)\n",
    "        Applies fit model on new data array and returns predictions\n",
    "    \"\"\"\n",
    "    \n",
    "    \n",
    "    def __init__(self):\n",
    "        self.betas = None\n",
    "        self.rsquared = None\n",
    "    \n",
    "    \n",
    "    def fit(self, X: np.ndarray, y: np.ndarray) -> LinearRegression:\n",
    "        \"\"\"\n",
    "        Estimates the linear model betas (weights/coefficients)\n",
    "        \n",
    "        Parameters\n",
    "        ----------\n",
    "        X : numpy.ndarray\n",
    "            Array of training samples with shape (n_samples, n_features)\n",
    "        \n",
    "        y : numpy.ndarray\n",
    "            Array of training targets with shape (n_samples,)\n",
    "        \"\"\"\n",
    "        \n",
    "        \n",
    "        n_samples, n_features = X.shape\n",
    "        \n",
    "        X_aug = np.column_stack((np.ones(n_samples), X))  # to account for intercept\n",
    "        \n",
    "        k = 1e-6*X.min()  # to avoid inverting a singular matrix\n",
    "        self.betas = np.linalg.inv(X_aug.T.dot(X_aug) + k*np.eye(n_features + 1)).dot(X_aug.T).dot(y)\n",
    "        \n",
    "        # R squared\n",
    "        self.rsquared = ((y - self.predict(X))**2).sum() / ((y - np.mean(y))**2).sum()\n",
    "        \n",
    "        return self\n",
    "    \n",
    "    \n",
    "    def predict(self, X: np.ndarray) -> np.ndarray:\n",
    "        \"\"\"\n",
    "        Applies fit model on new data array and returns predictions\n",
    "        \n",
    "        Parameters\n",
    "        ----------\n",
    "        X : numpy.ndarray\n",
    "            Array of testing samples with shape (n_samples, n_features)\n",
    "            \n",
    "        Raises\n",
    "        ------\n",
    "        ValueError\n",
    "            The fit() method has to be called first so that the betas\n",
    "            are estimated\n",
    "        \"\"\"\n",
    "        \n",
    "        \n",
    "        if self.betas is None:\n",
    "            raise ValueError(\"Betas not fitted. Call fit() method first\")\n",
    "        \n",
    "        n_samples, n_features = X.shape\n",
    "        \n",
    "        X_aug = np.column_stack((np.ones(n_samples), X))\n",
    "        return X_aug.dot(self.betas)"
   ]
  },
  {
   "cell_type": "markdown",
   "metadata": {},
   "source": [
    "### Mock data"
   ]
  },
  {
   "cell_type": "code",
   "execution_count": 272,
   "metadata": {
    "ExecuteTime": {
     "end_time": "2020-03-25T11:52:02.586475Z",
     "start_time": "2020-03-25T11:51:59.692126Z"
    }
   },
   "outputs": [],
   "source": [
    "# 1 million points, 100 dimensions\n",
    "n_samples = 1_000_000\n",
    "dims = 100\n",
    "X = 10 + 100*np.random.random((n_samples, dims))\n",
    "\n",
    "true_betas = 10*np.random.random(dims + 1)\n",
    "y = true_betas[0] + X.dot(true_betas[1:]) + np.random.normal(loc=0, scale=50.0, size=n_samples)"
   ]
  },
  {
   "cell_type": "markdown",
   "metadata": {},
   "source": [
    "### Test model"
   ]
  },
  {
   "cell_type": "code",
   "execution_count": 273,
   "metadata": {
    "ExecuteTime": {
     "end_time": "2020-03-25T11:52:14.425690Z",
     "start_time": "2020-03-25T11:52:02.591336Z"
    }
   },
   "outputs": [],
   "source": [
    "reg = LinearRegression()\n",
    "reg.fit(X, y)\n",
    "y_pred = reg.predict(X)"
   ]
  },
  {
   "cell_type": "code",
   "execution_count": 274,
   "metadata": {
    "ExecuteTime": {
     "end_time": "2020-03-25T11:52:14.445289Z",
     "start_time": "2020-03-25T11:52:14.430130Z"
    }
   },
   "outputs": [
    {
     "data": {
      "text/plain": [
       "'100 out of 101 coefficients were correct within 1% error'"
      ]
     },
     "execution_count": 274,
     "metadata": {},
     "output_type": "execute_result"
    }
   ],
   "source": [
    "f\"{np.isclose(reg.betas, true_betas, rtol=0.01).sum()} out of {true_betas.shape[0]} coefficients were correct within 1% error\""
   ]
  },
  {
   "cell_type": "code",
   "execution_count": 277,
   "metadata": {
    "ExecuteTime": {
     "end_time": "2020-03-25T11:52:23.923107Z",
     "start_time": "2020-03-25T11:52:23.886398Z"
    }
   },
   "outputs": [
    {
     "data": {
      "text/plain": [
       "'1,000,000 out of 1,000,000 predictions were correct within 1% error'"
      ]
     },
     "execution_count": 277,
     "metadata": {},
     "output_type": "execute_result"
    }
   ],
   "source": [
    "f\"{np.isclose(y_pred, y, rtol=0.01).sum():,} out of {y.shape[0]:,} predictions were correct within 1% error\""
   ]
  },
  {
   "cell_type": "code",
   "execution_count": 276,
   "metadata": {
    "ExecuteTime": {
     "end_time": "2020-03-25T11:52:14.552848Z",
     "start_time": "2020-03-25T11:52:14.523519Z"
    }
   },
   "outputs": [
    {
     "data": {
      "text/plain": [
       "0.0008900639282045119"
      ]
     },
     "execution_count": 276,
     "metadata": {},
     "output_type": "execute_result"
    }
   ],
   "source": [
    "reg.rsquared"
   ]
  },
  {
   "cell_type": "markdown",
   "metadata": {
    "ExecuteTime": {
     "end_time": "2020-03-25T11:37:55.576321Z",
     "start_time": "2020-03-25T11:37:53.256109Z"
    }
   },
   "source": [
    "### Visualize 1D data and predictions"
   ]
  },
  {
   "cell_type": "code",
   "execution_count": 251,
   "metadata": {
    "ExecuteTime": {
     "end_time": "2020-03-25T11:44:05.686126Z",
     "start_time": "2020-03-25T11:44:05.679878Z"
    }
   },
   "outputs": [],
   "source": [
    "X_1d = 100*np.random.random((100, 1))\n",
    "\n",
    "true_betas1 = 10 + np.random.random(2)\n",
    "y_1d = true_betas1[0] + X_1d.dot(true_betas1[1:]) + np.random.normal(loc=0, scale=60.0, size=100)"
   ]
  },
  {
   "cell_type": "code",
   "execution_count": 252,
   "metadata": {
    "ExecuteTime": {
     "end_time": "2020-03-25T11:44:06.214741Z",
     "start_time": "2020-03-25T11:44:05.937920Z"
    }
   },
   "outputs": [
    {
     "data": {
      "text/plain": [
       "<matplotlib.collections.PathCollection at 0x7f1dc4be5438>"
      ]
     },
     "execution_count": 252,
     "metadata": {},
     "output_type": "execute_result"
    },
    {
     "data": {
      "image/png": "[encoded data removed]",
      "text/plain": [
       "<Figure size 432x288 with 1 Axes>"
      ]
     },
     "metadata": {
      "needs_background": "light"
     },
     "output_type": "display_data"
    }
   ],
   "source": [
    "plt.scatter(X_1d[:, 0], y_1d)"
   ]
  },
  {
   "cell_type": "code",
   "execution_count": 264,
   "metadata": {
    "ExecuteTime": {
     "end_time": "2020-03-25T11:47:33.196406Z",
     "start_time": "2020-03-25T11:47:33.190025Z"
    }
   },
   "outputs": [],
   "source": [
    "reg_1d = LinearRegression()\n",
    "reg_1d.fit(X_1d, y_1d)\n",
    "y_1d_pred = reg_1d.predict(X_1d)"
   ]
  },
  {
   "cell_type": "code",
   "execution_count": 265,
   "metadata": {
    "ExecuteTime": {
     "end_time": "2020-03-25T11:47:52.666577Z",
     "start_time": "2020-03-25T11:47:52.380601Z"
    }
   },
   "outputs": [
    {
     "data": {
      "text/plain": [
       "[<matplotlib.lines.Line2D at 0x7f1d8f931278>]"
      ]
     },
     "execution_count": 265,
     "metadata": {},
     "output_type": "execute_result"
    },
    {
     "data": {
      "image/png": "[encoded data removed]",
      "text/plain": [
       "<Figure size 432x288 with 1 Axes>"
      ]
     },
     "metadata": {
      "needs_background": "light"
     },
     "output_type": "display_data"
    }
   ],
   "source": [
    "plt.scatter(X_1d[:, 0], y_1d)\n",
    "plt.plot(X_1d[:, 0], y_1d_pred, c=\"red\")"
   ]
  },
  {
   "cell_type": "code",
   "execution_count": 266,
   "metadata": {
    "ExecuteTime": {
     "end_time": "2020-03-25T11:48:02.625864Z",
     "start_time": "2020-03-25T11:48:02.618129Z"
    }
   },
   "outputs": [
    {
     "data": {
      "text/plain": [
       "0.031058084697683758"
      ]
     },
     "execution_count": 266,
     "metadata": {},
     "output_type": "execute_result"
    }
   ],
   "source": [
    "reg_1d.rsquared"
   ]
  },
  {
   "cell_type": "code",
   "execution_count": null,
   "metadata": {},
   "outputs": [],
   "source": []
  }
 ],
 "metadata": {
  "kernelspec": {
   "display_name": "Python 3",
   "language": "python",
   "name": "python3"
  },
  "language_info": {
   "codemirror_mode": {
    "name": "ipython",
    "version": 3
   },
   "file_extension": ".py",
   "mimetype": "text/x-python",
   "name": "python",
   "nbconvert_exporter": "python",
   "pygments_lexer": "ipython3",
   "version": "3.7.2"
  }
 },
 "nbformat": 4,
 "nbformat_minor": 4
}
