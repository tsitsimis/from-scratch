{
 "cells": [
  {
   "cell_type": "markdown",
   "metadata": {},
   "source": [
    "# Dynamic Programming\n",
    "### Policy Iteration\n",
    "Policy Iteration is a Dynamic Programming method to estimate the value function $V_\\pi(s)$ of a policy $\\pi(a|s)$ and improve the policy so that the actions selected lead to better return.\n",
    "\n",
    "Here, the Markov Decision Process (MDP) is a simple grid environment where the goal state is 2 rectangles. The states are the x,y positions in the grid and the possible actions are going north, south, west or east.  \n",
    "\n",
    "The goal is to find the optimal policy so that when placed in a location, an agent can select the best action to find itself in one of the goal states. The policy is initially random (actions are selected with equal probability) and its value function is estimated. For value estimation, the Policy Evaluation algorithm is used. To improve the policy, the Policy Improvement algorithm is used. By itarating Policy Evaluation and Policy Improvement, the policy converges to the optimal one."
   ]
  },
  {
   "cell_type": "code",
   "execution_count": 1,
   "metadata": {
    "ExecuteTime": {
     "end_time": "2020-04-18T19:05:47.695632Z",
     "start_time": "2020-04-18T19:05:47.671638Z"
    }
   },
   "outputs": [
    {
     "data": {
      "text/html": [
       "<style>.container {width: 98%}</style>\n"
      ],
      "text/plain": [
       "<IPython.core.display.HTML object>"
      ]
     },
     "metadata": {},
     "output_type": "display_data"
    }
   ],
   "source": [
    "%%html\n",
    "<style>.container {width: 98%}</style>"
   ]
  },
  {
   "cell_type": "code",
   "execution_count": 2,
   "metadata": {
    "ExecuteTime": {
     "end_time": "2020-04-18T19:05:48.910824Z",
     "start_time": "2020-04-18T19:05:48.373675Z"
    }
   },
   "outputs": [],
   "source": [
    "%load_ext autoreload\n",
    "%autoreload 2"
   ]
  },
  {
   "cell_type": "code",
   "execution_count": 3,
   "metadata": {
    "ExecuteTime": {
     "end_time": "2020-04-18T19:05:51.593453Z",
     "start_time": "2020-04-18T19:05:49.788338Z"
    }
   },
   "outputs": [],
   "source": [
    "import numpy as np\n",
    "\n",
    "import sys\n",
    "sys.path.insert(0, \"../\")\n",
    "from fromscratch.rl.mdp import GridWorld, State\n",
    "from fromscratch.rl.dp import PolicyEvaluation, PolicyImprovement\n",
    "from fromscratch.rl.policy import GenericPolicy"
   ]
  },
  {
   "cell_type": "markdown",
   "metadata": {},
   "source": [
    "### Environment\n",
    "Grid World of n rows and m columns and 2 goal states  \n",
    "Allowed actions are going north, south, west or east, one step at a time"
   ]
  },
  {
   "cell_type": "code",
   "execution_count": 22,
   "metadata": {
    "ExecuteTime": {
     "end_time": "2020-04-18T19:27:27.494857Z",
     "start_time": "2020-04-18T19:27:25.359861Z"
    }
   },
   "outputs": [],
   "source": [
    "grid = GridWorld(6, 9, [State([0, 0]), State([4, 6])])"
   ]
  },
  {
   "cell_type": "code",
   "execution_count": 23,
   "metadata": {
    "ExecuteTime": {
     "end_time": "2020-04-18T19:27:28.801863Z",
     "start_time": "2020-04-18T19:27:27.502856Z"
    }
   },
   "outputs": [],
   "source": [
    "policy = GenericPolicy(grid)"
   ]
  },
  {
   "cell_type": "code",
   "execution_count": 24,
   "metadata": {
    "ExecuteTime": {
     "end_time": "2020-04-18T19:27:30.589863Z",
     "start_time": "2020-04-18T19:27:28.808862Z"
    }
   },
   "outputs": [
    {
     "data": {
      "image/png": "[encoded data removed]",
      "text/plain": [
       "<Figure size 432x288 with 1 Axes>"
      ]
     },
     "metadata": {
      "needs_background": "light"
     },
     "output_type": "display_data"
    }
   ],
   "source": [
    "grid.plot(policy)"
   ]
  },
  {
   "cell_type": "markdown",
   "metadata": {},
   "source": [
    "Initially, the policy chooses action randomly. The value function of this policy shows which states are better for an agent to be when selecting actions randomly"
   ]
  },
  {
   "cell_type": "markdown",
   "metadata": {},
   "source": [
    "### Policy Evaluation"
   ]
  },
  {
   "cell_type": "code",
   "execution_count": 25,
   "metadata": {
    "ExecuteTime": {
     "end_time": "2020-04-18T19:30:42.258831Z",
     "start_time": "2020-04-18T19:30:41.451827Z"
    }
   },
   "outputs": [],
   "source": [
    "evaluator = PolicyEvaluation(grid, policy)"
   ]
  },
  {
   "cell_type": "markdown",
   "metadata": {},
   "source": [
    "Policy Evaluation iteratively uses the Bellman equation as an update rule to obtain better estimations of the true value function of the policy\n",
    "\n",
    "$\n",
    "u_{k+1}(s) = \\sum\\limits_{a}\\pi(a|s) \\sum\\limits_{s^\\prime, r} p(s^\\prime, r|s, a)\\left[r + \\gamma u_{k}(s) \\right]\n",
    "$\n"
   ]
  },
  {
   "cell_type": "code",
   "execution_count": 26,
   "metadata": {
    "ExecuteTime": {
     "end_time": "2020-04-18T19:30:47.121145Z",
     "start_time": "2020-04-18T19:30:43.421896Z"
    }
   },
   "outputs": [],
   "source": [
    "for _ in range(20):\n",
    "    evaluator.evaluate_once()"
   ]
  },
  {
   "cell_type": "code",
   "execution_count": 27,
   "metadata": {
    "ExecuteTime": {
     "end_time": "2020-04-18T19:30:47.938937Z",
     "start_time": "2020-04-18T19:30:47.124936Z"
    }
   },
   "outputs": [
    {
     "data": {
      "image/png": "[encoded data removed]",
      "text/plain": [
       "<Figure size 432x288 with 1 Axes>"
      ]
     },
     "metadata": {
      "needs_background": "light"
     },
     "output_type": "display_data"
    }
   ],
   "source": [
    "grid.plot(policy)"
   ]
  },
  {
   "cell_type": "markdown",
   "metadata": {},
   "source": [
    "As expected, the states that are close to the goal have high value and the states far from the goal have all 0 value.  \n",
    "This basically tells us that when we make random moves, if we are close to the goal we are likely to reach it. But if we are a little farther away, chances are that we will not get to the goal.  \n",
    "\n",
    "This intuitive result shows that the value function exponentially decreases as we get far away from the goal since there is about $(\\frac{1}{4})^n$ probability to reach the goal when we are $n$ steps away from it."
   ]
  },
  {
   "cell_type": "markdown",
   "metadata": {},
   "source": [
    "### Policy Iteration\n",
    "Policy Evaluation and Policy Improvement are executed sequentially to find the optimal policy.  \n",
    "At every step, the value function estimation is updated and based on it the best action at every state is calculated."
   ]
  },
  {
   "cell_type": "code",
   "execution_count": 28,
   "metadata": {
    "ExecuteTime": {
     "end_time": "2020-04-18T19:39:53.809782Z",
     "start_time": "2020-04-18T19:39:53.057781Z"
    }
   },
   "outputs": [],
   "source": [
    "policy.reset()\n",
    "improver = PolicyImprovement(grid, policy)"
   ]
  },
  {
   "cell_type": "code",
   "execution_count": 29,
   "metadata": {
    "ExecuteTime": {
     "end_time": "2020-04-18T19:39:58.200037Z",
     "start_time": "2020-04-18T19:39:55.272909Z"
    }
   },
   "outputs": [],
   "source": [
    "for _ in range(10):\n",
    "    evaluator.evaluate_once()\n",
    "    improver.improve_once()"
   ]
  },
  {
   "cell_type": "code",
   "execution_count": 30,
   "metadata": {
    "ExecuteTime": {
     "end_time": "2020-04-18T19:39:59.363279Z",
     "start_time": "2020-04-18T19:39:58.782278Z"
    }
   },
   "outputs": [
    {
     "data": {
      "image/png": "[encoded data removed]",
      "text/plain": [
       "<Figure size 432x288 with 1 Axes>"
      ]
     },
     "metadata": {
      "needs_background": "light"
     },
     "output_type": "display_data"
    }
   ],
   "source": [
    "grid.plot(policy)"
   ]
  },
  {
   "cell_type": "markdown",
   "metadata": {
    "ExecuteTime": {
     "end_time": "2020-04-18T09:05:00.612483Z",
     "start_time": "2020-04-18T09:05:00.027478Z"
    }
   },
   "source": [
    "We see that the value function of the new policy is much more informative than the one of the random policy. Even for states far from the goal there it is a clear which direction to follow (basically doing gradient descent on the value function). Also, the policy has been optimized to point to states with higher value function."
   ]
  },
  {
   "cell_type": "code",
   "execution_count": null,
   "metadata": {},
   "outputs": [],
   "source": []
  }
 ],
 "metadata": {
  "kernelspec": {
   "display_name": "Python 3",
   "language": "python",
   "name": "python3"
  },
  "language_info": {
   "codemirror_mode": {
    "name": "ipython",
    "version": 3
   },
   "file_extension": ".py",
   "mimetype": "text/x-python",
   "name": "python",
   "nbconvert_exporter": "python",
   "pygments_lexer": "ipython3",
   "version": "3.7.2"
  }
 },
 "nbformat": 4,
 "nbformat_minor": 4
}
